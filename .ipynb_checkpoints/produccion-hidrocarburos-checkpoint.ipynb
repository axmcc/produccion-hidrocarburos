{
 "cells": [
  {
   "cell_type": "code",
   "execution_count": 1,
   "metadata": {},
   "outputs": [],
   "source": [
    "# importar librerias\n",
    "import pandas as pd\n",
    "import plotly.plotly as py\n",
    "import plotly.graph_objs as go\n",
    "from plotly import tools"
   ]
  },
  {
   "cell_type": "code",
   "execution_count": 2,
   "metadata": {},
   "outputs": [
    {
     "data": {
      "text/html": [
       "<script type=\"text/javascript\">window.PlotlyConfig = {MathJaxConfig: 'local'};</script><script type=\"text/javascript\">if (window.MathJax) {MathJax.Hub.Config({SVG: {font: \"STIX-Web\"}});}</script><script>requirejs.config({paths: { 'plotly': ['https://cdn.plot.ly/plotly-latest.min']},});if(!window._Plotly) {require(['plotly'],function(plotly) {window._Plotly=plotly;});}</script>"
      ],
      "text/vnd.plotly.v1+html": [
       "<script type=\"text/javascript\">window.PlotlyConfig = {MathJaxConfig: 'local'};</script><script type=\"text/javascript\">if (window.MathJax) {MathJax.Hub.Config({SVG: {font: \"STIX-Web\"}});}</script><script>requirejs.config({paths: { 'plotly': ['https://cdn.plot.ly/plotly-latest.min']},});if(!window._Plotly) {require(['plotly'],function(plotly) {window._Plotly=plotly;});}</script>"
      ]
     },
     "metadata": {},
     "output_type": "display_data"
    }
   ],
   "source": [
    "# para graficar localmente\n",
    "from plotly.offline import download_plotlyjs, init_notebook_mode, plot, iplot\n",
    "\n",
    "init_notebook_mode(connected=True)"
   ]
  },
  {
   "cell_type": "code",
   "execution_count": 3,
   "metadata": {},
   "outputs": [],
   "source": [
    "# cargar datos\n",
    "df_pet = pd.read_csv('insumos/produccion_petroleo_1999-2018.csv', sep=\";\")\n",
    "df_gas = pd.read_csv('insumos/produccion_gas_1999-2018.csv', sep=\";\")"
   ]
  },
  {
   "cell_type": "code",
   "execution_count": 5,
   "metadata": {},
   "outputs": [
    {
     "data": {
      "application/vnd.plotly.v1+json": {
       "config": {
        "linkText": "Export to plot.ly",
        "plotlyServerURL": "https://plot.ly",
        "showLink": false
       },
       "data": [
        {
         "name": "Petróleo",
         "type": "scatter",
         "uid": "42926bed-3e02-4990-9dc8-dc8d13cb5f4e",
         "x": [
          1999,
          2000,
          2001,
          2002,
          2003,
          2004,
          2005,
          2006,
          2007,
          2008,
          2009,
          2010,
          2011,
          2012,
          2013,
          2014,
          2015,
          2016,
          2017,
          2018
         ],
         "y": [
          "45,628,372",
          "43,288,766",
          "44,616,993",
          "43,960,582",
          "42,957,054",
          "40,432,948",
          "38,572,465",
          "38,346,334",
          "37,904,567",
          "37,592,946",
          "36,239,941",
          "35,413,416",
          "33,326,279",
          "33,139,519",
          "32,461,091",
          "31,978,256",
          "31,991,990",
          "30,768,393",
          "28,862,470",
          "29,472,542"
         ]
        },
        {
         "name": "Gas",
         "type": "scatter",
         "uid": "45d43da0-36f8-42b6-8ecf-70d68b38d8b4",
         "x": [
          1999,
          2000,
          2001,
          2002,
          2003,
          2004,
          2005,
          2006,
          2007,
          2008,
          2009,
          2010,
          2011,
          2012,
          2013,
          2014,
          2015,
          2016,
          2017,
          2018
         ],
         "y": [
          "40,749,019",
          "45,211,565",
          "48,038,567",
          "46,457,100",
          "50,947,741",
          "52,156,988",
          "51,278,599",
          "51,645,774",
          "50,971,152",
          "50,488,255",
          "48,419,249",
          "47,107,584",
          "45,527,554",
          "44,123,694",
          "41,708,289",
          "41,484,025",
          "42,905,533",
          "44,987,829",
          "44,656,659",
          "47,021,182"
         ],
         "yaxis": "y2"
        }
       ],
       "layout": {
        "legend": {
         "orientation": "h"
        },
        "title": {
         "text": "Producción de Hidrocarburos: Anual"
        },
        "yaxis": {
         "range": [
          25000000,
          55000000
         ],
         "title": {
          "text": "Petróleo (m3)"
         }
        },
        "yaxis2": {
         "overlaying": "y",
         "range": [
          25000000,
          55000000
         ],
         "side": "right",
         "title": {
          "text": "Gas (miles de m3)"
         }
        }
       }
      },
      "text/html": [
       "<div id=\"3e5ca038-8cdd-401c-8ee9-30d2eddcfa5f\" style=\"height: 525px; width: 100%;\" class=\"plotly-graph-div\"></div><script type=\"text/javascript\">require([\"plotly\"], function(Plotly) { window.PLOTLYENV=window.PLOTLYENV || {};window.PLOTLYENV.BASE_URL=\"https://plot.ly\";\n",
       "if (document.getElementById(\"3e5ca038-8cdd-401c-8ee9-30d2eddcfa5f\")) {\n",
       "    Plotly.newPlot(\"3e5ca038-8cdd-401c-8ee9-30d2eddcfa5f\", [{\"name\": \"Petr\\u00f3leo\", \"x\": [1999, 2000, 2001, 2002, 2003, 2004, 2005, 2006, 2007, 2008, 2009, 2010, 2011, 2012, 2013, 2014, 2015, 2016, 2017, 2018], \"y\": [\"45,628,372\", \"43,288,766\", \"44,616,993\", \"43,960,582\", \"42,957,054\", \"40,432,948\", \"38,572,465\", \"38,346,334\", \"37,904,567\", \"37,592,946\", \"36,239,941\", \"35,413,416\", \"33,326,279\", \"33,139,519\", \"32,461,091\", \"31,978,256\", \"31,991,990\", \"30,768,393\", \"28,862,470\", \"29,472,542\"], \"type\": \"scatter\", \"uid\": \"42926bed-3e02-4990-9dc8-dc8d13cb5f4e\"}, {\"name\": \"Gas\", \"x\": [1999, 2000, 2001, 2002, 2003, 2004, 2005, 2006, 2007, 2008, 2009, 2010, 2011, 2012, 2013, 2014, 2015, 2016, 2017, 2018], \"y\": [\"40,749,019\", \"45,211,565\", \"48,038,567\", \"46,457,100\", \"50,947,741\", \"52,156,988\", \"51,278,599\", \"51,645,774\", \"50,971,152\", \"50,488,255\", \"48,419,249\", \"47,107,584\", \"45,527,554\", \"44,123,694\", \"41,708,289\", \"41,484,025\", \"42,905,533\", \"44,987,829\", \"44,656,659\", \"47,021,182\"], \"yaxis\": \"y2\", \"type\": \"scatter\", \"uid\": \"45d43da0-36f8-42b6-8ecf-70d68b38d8b4\"}], {\"legend\": {\"orientation\": \"h\"}, \"title\": {\"text\": \"Producci\\u00f3n de Hidrocarburos: Anual\"}, \"yaxis\": {\"range\": [25000000, 55000000], \"title\": {\"text\": \"Petr\\u00f3leo (m3)\"}}, \"yaxis2\": {\"overlaying\": \"y\", \"range\": [25000000, 55000000], \"side\": \"right\", \"title\": {\"text\": \"Gas (miles de m3)\"}}}, {\"showLink\": false, \"linkText\": \"Export to plot.ly\", \"plotlyServerURL\": \"https://plot.ly\"}); \n",
       "}\n",
       "});</script><script type=\"text/javascript\">window.addEventListener(\"resize\", function(){if (document.getElementById(\"3e5ca038-8cdd-401c-8ee9-30d2eddcfa5f\")) {window._Plotly.Plots.resize(document.getElementById(\"3e5ca038-8cdd-401c-8ee9-30d2eddcfa5f\"));};})</script>"
      ],
      "text/vnd.plotly.v1+html": [
       "<div id=\"3e5ca038-8cdd-401c-8ee9-30d2eddcfa5f\" style=\"height: 525px; width: 100%;\" class=\"plotly-graph-div\"></div><script type=\"text/javascript\">require([\"plotly\"], function(Plotly) { window.PLOTLYENV=window.PLOTLYENV || {};window.PLOTLYENV.BASE_URL=\"https://plot.ly\";\n",
       "if (document.getElementById(\"3e5ca038-8cdd-401c-8ee9-30d2eddcfa5f\")) {\n",
       "    Plotly.newPlot(\"3e5ca038-8cdd-401c-8ee9-30d2eddcfa5f\", [{\"name\": \"Petr\\u00f3leo\", \"x\": [1999, 2000, 2001, 2002, 2003, 2004, 2005, 2006, 2007, 2008, 2009, 2010, 2011, 2012, 2013, 2014, 2015, 2016, 2017, 2018], \"y\": [\"45,628,372\", \"43,288,766\", \"44,616,993\", \"43,960,582\", \"42,957,054\", \"40,432,948\", \"38,572,465\", \"38,346,334\", \"37,904,567\", \"37,592,946\", \"36,239,941\", \"35,413,416\", \"33,326,279\", \"33,139,519\", \"32,461,091\", \"31,978,256\", \"31,991,990\", \"30,768,393\", \"28,862,470\", \"29,472,542\"], \"type\": \"scatter\", \"uid\": \"42926bed-3e02-4990-9dc8-dc8d13cb5f4e\"}, {\"name\": \"Gas\", \"x\": [1999, 2000, 2001, 2002, 2003, 2004, 2005, 2006, 2007, 2008, 2009, 2010, 2011, 2012, 2013, 2014, 2015, 2016, 2017, 2018], \"y\": [\"40,749,019\", \"45,211,565\", \"48,038,567\", \"46,457,100\", \"50,947,741\", \"52,156,988\", \"51,278,599\", \"51,645,774\", \"50,971,152\", \"50,488,255\", \"48,419,249\", \"47,107,584\", \"45,527,554\", \"44,123,694\", \"41,708,289\", \"41,484,025\", \"42,905,533\", \"44,987,829\", \"44,656,659\", \"47,021,182\"], \"yaxis\": \"y2\", \"type\": \"scatter\", \"uid\": \"45d43da0-36f8-42b6-8ecf-70d68b38d8b4\"}], {\"legend\": {\"orientation\": \"h\"}, \"title\": {\"text\": \"Producci\\u00f3n de Hidrocarburos: Anual\"}, \"yaxis\": {\"range\": [25000000, 55000000], \"title\": {\"text\": \"Petr\\u00f3leo (m3)\"}}, \"yaxis2\": {\"overlaying\": \"y\", \"range\": [25000000, 55000000], \"side\": \"right\", \"title\": {\"text\": \"Gas (miles de m3)\"}}}, {\"showLink\": false, \"linkText\": \"Export to plot.ly\", \"plotlyServerURL\": \"https://plot.ly\"}); \n",
       "}\n",
       "});</script><script type=\"text/javascript\">window.addEventListener(\"resize\", function(){if (document.getElementById(\"3e5ca038-8cdd-401c-8ee9-30d2eddcfa5f\")) {window._Plotly.Plots.resize(document.getElementById(\"3e5ca038-8cdd-401c-8ee9-30d2eddcfa5f\"));};})</script>"
      ]
     },
     "metadata": {},
     "output_type": "display_data"
    }
   ],
   "source": [
    "pet_produccion_anual = go.Scatter(\n",
    "    x=df_pet.anio,\n",
    "    y=df_pet.produccion_petroleo,\n",
    "    name='Petróleo'\n",
    ")\n",
    "\n",
    "gas_produccion_anual = go.Scatter(\n",
    "    x=df_gas.anio,\n",
    "    y=df_gas.produccion_gas,\n",
    "    yaxis='y2',\n",
    "    name='Gas'\n",
    ")\n",
    "data = [pet_produccion_anual, gas_produccion_anual]\n",
    "layout = go.Layout(\n",
    "    title='Producción de Hidrocarburos: Anual',\n",
    "    yaxis=dict(\n",
    "        title='Petróleo (m3)',\n",
    "        range=[25000000, 55000000],\n",
    "    ),\n",
    "    yaxis2=dict(\n",
    "        title='Gas (miles de m3)',\n",
    "        overlaying='y',\n",
    "        side='right',\n",
    "        range=[25000000, 55000000]\n",
    "    ),\n",
    "    legend=dict(orientation=\"h\")\n",
    ")\n",
    "fig = go.Figure(data=data, layout=layout)\n",
    "iplot(fig, filename='prod_anual')"
   ]
  },
  {
   "cell_type": "code",
   "execution_count": 6,
   "metadata": {},
   "outputs": [],
   "source": [
    "# cargar datos\n",
    "df_pett1 = pd.read_csv('insumos/produccion_petroleo_1999-2019_t1.csv', sep=\";\")\n",
    "df_gast1 = pd.read_csv('insumos/produccion_gas_1999-2019_t1.csv', sep=\";\")"
   ]
  },
  {
   "cell_type": "code",
   "execution_count": 7,
   "metadata": {},
   "outputs": [
    {
     "data": {
      "application/vnd.plotly.v1+json": {
       "config": {
        "linkText": "Export to plot.ly",
        "plotlyServerURL": "https://plot.ly",
        "showLink": false
       },
       "data": [
        {
         "name": "Petróleo",
         "type": "bar",
         "uid": "64fe2d8f-834f-4282-86e3-02e1c7f76994",
         "x": [
          1999,
          2000,
          2001,
          2002,
          2003,
          2004,
          2005,
          2006,
          2007,
          2008,
          2009,
          2010,
          2011,
          2012,
          2013,
          2014,
          2015,
          2016,
          2017,
          2018,
          2019
         ],
         "xaxis": "x",
         "y": [
          "11,736,777",
          "10,842,922",
          "10,627,484",
          "10,923,324",
          "10,612,316",
          "10,085,229",
          "9,701,388",
          "9,249,294",
          "9,375,020",
          "9,478,757",
          "9,218,912",
          "8,922,352",
          "8,590,303",
          "8,346,678",
          "7,928,292",
          "7,981,395",
          "7,888,575",
          "7,831,044",
          "7,260,760",
          "7,186,432",
          "8,687,685"
         ],
         "yaxis": "y"
        },
        {
         "name": "Gas",
         "type": "bar",
         "uid": "c8e8200c-a438-4285-baa3-22408df35fcc",
         "x": [
          1999,
          2000,
          2001,
          2002,
          2003,
          2004,
          2005,
          2006,
          2007,
          2008,
          2009,
          2010,
          2011,
          2012,
          2013,
          2014,
          2015,
          2016,
          2017,
          2018,
          2019
         ],
         "xaxis": "x2",
         "y": [
          "9,320,171",
          "10,380,909",
          "11,544,260",
          "10,598,517",
          "10,818,705",
          "12,582,091",
          "12,024,497",
          "12,467,694",
          "12,174,450",
          "12,405,445",
          "11,983,442",
          "11,449,162",
          "11,042,079",
          "11,032,925",
          "10,241,057",
          "10,209,789",
          "10,436,992",
          "10,976,931",
          "10,878,636",
          "11,242,699",
          "16,669,889"
         ],
         "yaxis": "y2"
        }
       ],
       "layout": {
        "annotations": [
         {
          "font": {
           "size": 16
          },
          "showarrow": false,
          "text": "Petróleo",
          "x": 0.5,
          "xanchor": "center",
          "xref": "paper",
          "y": 1,
          "yanchor": "bottom",
          "yref": "paper"
         },
         {
          "font": {
           "size": 16
          },
          "showarrow": false,
          "text": "Gas",
          "x": 0.5,
          "xanchor": "center",
          "xref": "paper",
          "y": 0.375,
          "yanchor": "bottom",
          "yref": "paper"
         }
        ],
        "height": 600,
        "showlegend": false,
        "title": {
         "text": "Producción 1º Trimestre"
        },
        "width": 900,
        "xaxis": {
         "anchor": "y",
         "domain": [
          0,
          1
         ]
        },
        "xaxis2": {
         "anchor": "y2",
         "domain": [
          0,
          1
         ]
        },
        "yaxis": {
         "anchor": "x",
         "domain": [
          0.625,
          1
         ],
         "range": [
          0,
          16000000
         ],
         "title": {
          "text": "m3"
         }
        },
        "yaxis2": {
         "anchor": "x2",
         "domain": [
          0,
          0.375
         ],
         "range": [
          0,
          16000000
         ],
         "title": {
          "text": "miles de m3"
         }
        }
       }
      },
      "text/html": [
       "<div id=\"67866fe0-40e5-499f-bb7e-56b15b584909\" style=\"height: 600px; width: 900px;\" class=\"plotly-graph-div\"></div><script type=\"text/javascript\">require([\"plotly\"], function(Plotly) { window.PLOTLYENV=window.PLOTLYENV || {};window.PLOTLYENV.BASE_URL=\"https://plot.ly\";\n",
       "if (document.getElementById(\"67866fe0-40e5-499f-bb7e-56b15b584909\")) {\n",
       "    Plotly.newPlot(\"67866fe0-40e5-499f-bb7e-56b15b584909\", [{\"name\": \"Petr\\u00f3leo\", \"x\": [1999, 2000, 2001, 2002, 2003, 2004, 2005, 2006, 2007, 2008, 2009, 2010, 2011, 2012, 2013, 2014, 2015, 2016, 2017, 2018, 2019], \"y\": [\"11,736,777\", \"10,842,922\", \"10,627,484\", \"10,923,324\", \"10,612,316\", \"10,085,229\", \"9,701,388\", \"9,249,294\", \"9,375,020\", \"9,478,757\", \"9,218,912\", \"8,922,352\", \"8,590,303\", \"8,346,678\", \"7,928,292\", \"7,981,395\", \"7,888,575\", \"7,831,044\", \"7,260,760\", \"7,186,432\", \"8,687,685\"], \"type\": \"bar\", \"uid\": \"64fe2d8f-834f-4282-86e3-02e1c7f76994\", \"xaxis\": \"x\", \"yaxis\": \"y\"}, {\"name\": \"Gas\", \"x\": [1999, 2000, 2001, 2002, 2003, 2004, 2005, 2006, 2007, 2008, 2009, 2010, 2011, 2012, 2013, 2014, 2015, 2016, 2017, 2018, 2019], \"y\": [\"9,320,171\", \"10,380,909\", \"11,544,260\", \"10,598,517\", \"10,818,705\", \"12,582,091\", \"12,024,497\", \"12,467,694\", \"12,174,450\", \"12,405,445\", \"11,983,442\", \"11,449,162\", \"11,042,079\", \"11,032,925\", \"10,241,057\", \"10,209,789\", \"10,436,992\", \"10,976,931\", \"10,878,636\", \"11,242,699\", \"16,669,889\"], \"yaxis\": \"y2\", \"type\": \"bar\", \"uid\": \"c8e8200c-a438-4285-baa3-22408df35fcc\", \"xaxis\": \"x2\"}], {\"annotations\": [{\"font\": {\"size\": 16}, \"showarrow\": false, \"text\": \"Petr\\u00f3leo\", \"x\": 0.5, \"xanchor\": \"center\", \"xref\": \"paper\", \"y\": 1.0, \"yanchor\": \"bottom\", \"yref\": \"paper\"}, {\"font\": {\"size\": 16}, \"showarrow\": false, \"text\": \"Gas\", \"x\": 0.5, \"xanchor\": \"center\", \"xref\": \"paper\", \"y\": 0.375, \"yanchor\": \"bottom\", \"yref\": \"paper\"}], \"xaxis\": {\"anchor\": \"y\", \"domain\": [0.0, 1.0]}, \"yaxis\": {\"anchor\": \"x\", \"domain\": [0.625, 1.0], \"title\": {\"text\": \"m3\"}, \"range\": [0, 16000000]}, \"xaxis2\": {\"anchor\": \"y2\", \"domain\": [0.0, 1.0]}, \"yaxis2\": {\"anchor\": \"x2\", \"domain\": [0.0, 0.375], \"title\": {\"text\": \"miles de m3\"}, \"range\": [0, 16000000]}, \"height\": 600, \"width\": 900, \"title\": {\"text\": \"Producci\\u00f3n 1\\u00ba Trimestre\"}, \"showlegend\": false}, {\"showLink\": false, \"linkText\": \"Export to plot.ly\", \"plotlyServerURL\": \"https://plot.ly\"}); \n",
       "}\n",
       "});</script>"
      ],
      "text/vnd.plotly.v1+html": [
       "<div id=\"67866fe0-40e5-499f-bb7e-56b15b584909\" style=\"height: 600px; width: 900px;\" class=\"plotly-graph-div\"></div><script type=\"text/javascript\">require([\"plotly\"], function(Plotly) { window.PLOTLYENV=window.PLOTLYENV || {};window.PLOTLYENV.BASE_URL=\"https://plot.ly\";\n",
       "if (document.getElementById(\"67866fe0-40e5-499f-bb7e-56b15b584909\")) {\n",
       "    Plotly.newPlot(\"67866fe0-40e5-499f-bb7e-56b15b584909\", [{\"name\": \"Petr\\u00f3leo\", \"x\": [1999, 2000, 2001, 2002, 2003, 2004, 2005, 2006, 2007, 2008, 2009, 2010, 2011, 2012, 2013, 2014, 2015, 2016, 2017, 2018, 2019], \"y\": [\"11,736,777\", \"10,842,922\", \"10,627,484\", \"10,923,324\", \"10,612,316\", \"10,085,229\", \"9,701,388\", \"9,249,294\", \"9,375,020\", \"9,478,757\", \"9,218,912\", \"8,922,352\", \"8,590,303\", \"8,346,678\", \"7,928,292\", \"7,981,395\", \"7,888,575\", \"7,831,044\", \"7,260,760\", \"7,186,432\", \"8,687,685\"], \"type\": \"bar\", \"uid\": \"64fe2d8f-834f-4282-86e3-02e1c7f76994\", \"xaxis\": \"x\", \"yaxis\": \"y\"}, {\"name\": \"Gas\", \"x\": [1999, 2000, 2001, 2002, 2003, 2004, 2005, 2006, 2007, 2008, 2009, 2010, 2011, 2012, 2013, 2014, 2015, 2016, 2017, 2018, 2019], \"y\": [\"9,320,171\", \"10,380,909\", \"11,544,260\", \"10,598,517\", \"10,818,705\", \"12,582,091\", \"12,024,497\", \"12,467,694\", \"12,174,450\", \"12,405,445\", \"11,983,442\", \"11,449,162\", \"11,042,079\", \"11,032,925\", \"10,241,057\", \"10,209,789\", \"10,436,992\", \"10,976,931\", \"10,878,636\", \"11,242,699\", \"16,669,889\"], \"yaxis\": \"y2\", \"type\": \"bar\", \"uid\": \"c8e8200c-a438-4285-baa3-22408df35fcc\", \"xaxis\": \"x2\"}], {\"annotations\": [{\"font\": {\"size\": 16}, \"showarrow\": false, \"text\": \"Petr\\u00f3leo\", \"x\": 0.5, \"xanchor\": \"center\", \"xref\": \"paper\", \"y\": 1.0, \"yanchor\": \"bottom\", \"yref\": \"paper\"}, {\"font\": {\"size\": 16}, \"showarrow\": false, \"text\": \"Gas\", \"x\": 0.5, \"xanchor\": \"center\", \"xref\": \"paper\", \"y\": 0.375, \"yanchor\": \"bottom\", \"yref\": \"paper\"}], \"xaxis\": {\"anchor\": \"y\", \"domain\": [0.0, 1.0]}, \"yaxis\": {\"anchor\": \"x\", \"domain\": [0.625, 1.0], \"title\": {\"text\": \"m3\"}, \"range\": [0, 16000000]}, \"xaxis2\": {\"anchor\": \"y2\", \"domain\": [0.0, 1.0]}, \"yaxis2\": {\"anchor\": \"x2\", \"domain\": [0.0, 0.375], \"title\": {\"text\": \"miles de m3\"}, \"range\": [0, 16000000]}, \"height\": 600, \"width\": 900, \"title\": {\"text\": \"Producci\\u00f3n 1\\u00ba Trimestre\"}, \"showlegend\": false}, {\"showLink\": false, \"linkText\": \"Export to plot.ly\", \"plotlyServerURL\": \"https://plot.ly\"}); \n",
       "}\n",
       "});</script>"
      ]
     },
     "metadata": {},
     "output_type": "display_data"
    }
   ],
   "source": [
    "pet_produccion_t1 = go.Bar(\n",
    "    x=df_pett1.anio,\n",
    "    y=df_pett1.produccion_petroleo,\n",
    "    name='Petróleo'\n",
    ")\n",
    "\n",
    "gas_produccion_t1 = go.Bar(\n",
    "    x=df_gast1.anio,\n",
    "    y=df_gast1.produccion_gas,\n",
    "    yaxis='y2',\n",
    "    name='Gas'\n",
    ")\n",
    "\n",
    "\n",
    "fig = tools.make_subplots(rows=2, cols=1, subplot_titles=('Petróleo', 'Gas'), print_grid=False)\n",
    "\n",
    "fig.append_trace(pet_produccion_t1, 1, 1)\n",
    "fig.append_trace(gas_produccion_t1, 2, 1)\n",
    "\n",
    "fig['layout']['yaxis1'].update(title='m3', range=[0, 16000000])\n",
    "fig['layout']['yaxis2'].update(title='miles de m3', range=[0, 16000000])\n",
    "\n",
    "fig['layout'].update(height=600, width=900)\n",
    "fig['layout'].update(title='Producción 1º Trimestre')\n",
    "fig['layout'].update(showlegend=False)\n",
    "\n",
    "\n",
    "#py.iplot(fig, filename='multiple-subplots')\n",
    "iplot(fig, filename='multiple-subplots')"
   ]
  },
  {
   "cell_type": "code",
   "execution_count": 8,
   "metadata": {},
   "outputs": [],
   "source": [
    "# cargar datos\n",
    "df_cuenca = pd.read_csv('insumos/produccion_1999-2018_cuencas.csv', sep=\";\")\n",
    "df_cuenca_t1 = pd.read_csv('insumos/produccion_1999-2019_t1_cuencas.csv', sep=\";\")"
   ]
  },
  {
   "cell_type": "code",
   "execution_count": 10,
   "metadata": {},
   "outputs": [
    {
     "data": {
      "application/vnd.plotly.v1+json": {
       "config": {
        "linkText": "Export to plot.ly",
        "plotlyServerURL": "https://plot.ly",
        "showLink": false
       },
       "data": [
        {
         "name": "Austral",
         "type": "scatter",
         "uid": "ceba043b-b173-4268-a366-d68bac0174f0",
         "x": [
          1999,
          2000,
          2001,
          2002,
          2003,
          2004,
          2005,
          2006,
          2007,
          2008,
          2009,
          2010,
          2011,
          2012,
          2013,
          2014,
          2015,
          2016,
          2017,
          2018
         ],
         "xaxis": "x",
         "y": [
          "4,723,917",
          "3,881,136",
          "4,008,508",
          "3,376,451",
          "2,935,073",
          "2,656,956",
          "2,338,484",
          "2,303,977",
          "1,826,903",
          "1,964,621",
          "2,107,202",
          "1,939,057",
          "1,804,475",
          "1,904,973",
          "1,767,278",
          "1,654,046",
          "1,536,691",
          "1,448,487",
          "1,270,054",
          "1,459,878"
         ],
         "yaxis": "y"
        },
        {
         "name": "Cuyana",
         "type": "scatter",
         "uid": "8c2bfdbc-0626-4ff8-8c25-8983d0f510e7",
         "x": [
          1999,
          2000,
          2001,
          2002,
          2003,
          2004,
          2005,
          2006,
          2007,
          2008,
          2009,
          2010,
          2011,
          2012,
          2013,
          2014,
          2015,
          2016,
          2017,
          2018
         ],
         "xaxis": "x",
         "y": [
          "2,659,489",
          "2,405,211",
          "2,586,160",
          "2,839,595",
          "2,645,169",
          "2,373,699",
          "2,273,682",
          "2,194,486",
          "2,103,896",
          "2,018,206",
          "1,914,795",
          "1,882,904",
          "1,871,769",
          "1,816,417",
          "1,753,229",
          "1,701,693",
          "1,614,280",
          "1,581,676",
          "1,505,397",
          "1,404,298"
         ],
         "yaxis": "y"
        },
        {
         "name": "Golfo San Jorge",
         "type": "scatter",
         "uid": "42356cfd-16fc-48ff-94e4-9e0a25276afb",
         "x": [
          1999,
          2000,
          2001,
          2002,
          2003,
          2004,
          2005,
          2006,
          2007,
          2008,
          2009,
          2010,
          2011,
          2012,
          2013,
          2014,
          2015,
          2016,
          2017,
          2018
         ],
         "xaxis": "x",
         "y": [
          "14,194,013",
          "13,804,252",
          "15,221,825",
          "15,632,382",
          "16,270,039",
          "16,436,761",
          "16,505,833",
          "16,734,899",
          "16,138,826",
          "15,383,414",
          "15,914,545",
          "15,868,202",
          "14,786,525",
          "15,262,564",
          "15,133,166",
          "15,215,428",
          "15,350,793",
          "14,588,582",
          "13,507,679",
          "13,564,277"
         ],
         "yaxis": "y"
        },
        {
         "name": "Neuquina",
         "type": "scatter",
         "uid": "5f91e5e6-3194-4830-9d92-72770c97ce77",
         "x": [
          1999,
          2000,
          2001,
          2002,
          2003,
          2004,
          2005,
          2006,
          2007,
          2008,
          2009,
          2010,
          2011,
          2012,
          2013,
          2014,
          2015,
          2016,
          2017,
          2018
         ],
         "xaxis": "x",
         "y": [
          "22,884,492",
          "22,028,372",
          "21,600,907",
          "20,951,913",
          "20,001,263",
          "17,952,039",
          "16,538,314",
          "16,266,501",
          "16,958,754",
          "17,346,449",
          "15,495,552",
          "15,002,583",
          "14,233,198",
          "13,543,911",
          "13,264,860",
          "12,906,054",
          "12,984,135",
          "12,687,039",
          "12,161,557",
          "12,688,978"
         ],
         "yaxis": "y"
        },
        {
         "name": "Noroeste",
         "type": "scatter",
         "uid": "970910ee-14a4-4667-8eb2-967228cad00f",
         "x": [
          1999,
          2000,
          2001,
          2002,
          2003,
          2004,
          2005,
          2006,
          2007,
          2008,
          2009,
          2010,
          2011,
          2012,
          2013,
          2014,
          2015,
          2016,
          2017,
          2018
         ],
         "xaxis": "x",
         "y": [
          "1,166,461",
          "1,169,794",
          "1,199,592",
          "1,160,240",
          "1,105,510",
          "1,013,492",
          "916,154",
          "846,471",
          "872,825",
          "868,661",
          "807,847",
          "720,670",
          "630,312",
          "611,655",
          "542,558",
          "501,035",
          "506,091",
          "462,610",
          "417,784",
          "355,110"
         ],
         "yaxis": "y"
        },
        {
         "name": "Austral",
         "type": "scatter",
         "uid": "1e6094ae-2145-4f9c-8f92-4618e8a6c7b7",
         "x": [
          1999,
          2000,
          2001,
          2002,
          2003,
          2004,
          2005,
          2006,
          2007,
          2008,
          2009,
          2010,
          2011,
          2012,
          2013,
          2014,
          2015,
          2016,
          2017,
          2018
         ],
         "xaxis": "x2",
         "y": [
          "8,406,767",
          "9,011,698",
          "8,972,981",
          "8,835,716",
          "9,011,306",
          "9,135,207",
          "9,660,327",
          "10,210,424",
          "9,270,829",
          "9,119,486",
          "9,917,585",
          "10,435,711",
          "10,818,359",
          "11,135,404",
          "10,513,837",
          "10,015,263",
          "9,653,502",
          "10,591,925",
          "10,681,723",
          "11,521,125"
         ],
         "yaxis": "y2"
        },
        {
         "name": "Cuyana",
         "type": "scatter",
         "uid": "7b230f86-c093-4317-9271-ef61bbe1a760",
         "x": [
          1999,
          2000,
          2001,
          2002,
          2003,
          2004,
          2005,
          2006,
          2007,
          2008,
          2009,
          2010,
          2011,
          2012,
          2013,
          2014,
          2015,
          2016,
          2017,
          2018
         ],
         "xaxis": "x2",
         "y": [
          "78,773",
          "75,351",
          "75,486",
          "194,593",
          "81,315",
          "64,368",
          "64,412",
          "61,918",
          "58,403",
          "57,686",
          "59,516",
          "59,173",
          "61,403",
          "58,284",
          "58,121",
          "56,391",
          "54,040",
          "51,298",
          "48,414",
          "48,964"
         ],
         "yaxis": "y2"
        },
        {
         "name": "Golfo San Jorge",
         "type": "scatter",
         "uid": "ab34061d-ac03-421a-8c84-703da16ac4fb",
         "x": [
          1999,
          2000,
          2001,
          2002,
          2003,
          2004,
          2005,
          2006,
          2007,
          2008,
          2009,
          2010,
          2011,
          2012,
          2013,
          2014,
          2015,
          2016,
          2017,
          2018
         ],
         "xaxis": "x2",
         "y": [
          "2,531,407",
          "2,820,268",
          "5,177,654",
          "3,777,672",
          "3,538,279",
          "3,783,403",
          "4,249,454",
          "4,565,435",
          "4,889,201",
          "4,956,993",
          "5,191,358",
          "5,230,835",
          "4,879,907",
          "5,219,453",
          "5,234,116",
          "5,301,877",
          "5,715,245",
          "5,703,558",
          "5,348,235",
          "4,948,074"
         ],
         "yaxis": "y2"
        },
        {
         "name": "Neuquina",
         "type": "scatter",
         "uid": "ebbdd6d0-4b22-430f-8fa5-e580d6d05f88",
         "x": [
          1999,
          2000,
          2001,
          2002,
          2003,
          2004,
          2005,
          2006,
          2007,
          2008,
          2009,
          2010,
          2011,
          2012,
          2013,
          2014,
          2015,
          2016,
          2017,
          2018
         ],
         "xaxis": "x2",
         "y": [
          "23,525,111",
          "26,251,309",
          "25,989,634",
          "25,763,517",
          "29,885,194",
          "31,708,425",
          "30,197,250",
          "29,759,750",
          "29,925,194",
          "29,473,807",
          "26,970,412",
          "25,978,767",
          "25,159,268",
          "23,857,753",
          "22,642,016",
          "23,217,219",
          "24,630,343",
          "25,969,804",
          "26,177,450",
          "28,394,026"
         ],
         "yaxis": "y2"
        },
        {
         "name": "Noroeste",
         "type": "scatter",
         "uid": "e2572639-c62e-4dce-baaa-d6fdbc09f462",
         "x": [
          1999,
          2000,
          2001,
          2002,
          2003,
          2004,
          2005,
          2006,
          2007,
          2008,
          2009,
          2010,
          2011,
          2012,
          2013,
          2014,
          2015,
          2016,
          2017,
          2018
         ],
         "xaxis": "x2",
         "y": [
          "6,206,961",
          "7,052,938",
          "7,822,812",
          "7,885,602",
          "8,431,648",
          "7,465,585",
          "7,107,158",
          "7,048,243",
          "6,827,505",
          "6,880,214",
          "6,280,379",
          "5,403,097",
          "4,608,616",
          "3,852,801",
          "3,260,199",
          "2,893,276",
          "2,852,403",
          "2,671,244",
          "2,400,836",
          "2,108,993"
         ],
         "yaxis": "y2"
        }
       ],
       "layout": {
        "annotations": [
         {
          "font": {
           "size": 16
          },
          "showarrow": false,
          "text": "Petróleo",
          "x": 0.225,
          "xanchor": "center",
          "xref": "paper",
          "y": 1,
          "yanchor": "bottom",
          "yref": "paper"
         },
         {
          "font": {
           "size": 16
          },
          "showarrow": false,
          "text": "Gas",
          "x": 0.775,
          "xanchor": "center",
          "xref": "paper",
          "y": 1,
          "yanchor": "bottom",
          "yref": "paper"
         }
        ],
        "showlegend": false,
        "title": {
         "text": "Todas las Cuencas"
        },
        "updatemenus": [
         {
          "active": 5,
          "buttons": [
           {
            "args": [
             {
              "visible": [
               true,
               false,
               false,
               false,
               false
              ]
             },
             {
              "title": "Austral"
             }
            ],
            "label": "Austral",
            "method": "update"
           },
           {
            "args": [
             {
              "visible": [
               false,
               true,
               false,
               false,
               false
              ]
             },
             {
              "title": "Cuyana"
             }
            ],
            "label": "Cuyana",
            "method": "update"
           },
           {
            "args": [
             {
              "visible": [
               false,
               false,
               true,
               false,
               false
              ]
             },
             {
              "title": "Golfo San Jorge"
             }
            ],
            "label": "Golfo San Jorge",
            "method": "update"
           },
           {
            "args": [
             {
              "visible": [
               false,
               false,
               false,
               true,
               false
              ]
             },
             {
              "title": "Neuquina"
             }
            ],
            "label": "Neuquina",
            "method": "update"
           },
           {
            "args": [
             {
              "visible": [
               false,
               false,
               false,
               false,
               true
              ]
             },
             {
              "title": "Noroeste"
             }
            ],
            "label": "Noroeste",
            "method": "update"
           },
           {
            "args": [
             {
              "visible": [
               true,
               true,
               true,
               true,
               true
              ]
             },
             {
              "title": "Todas las Cuencas"
             }
            ],
            "label": "Todas",
            "method": "update"
           }
          ],
          "direction": "right",
          "x": 0.1,
          "xanchor": "center",
          "y": 1.1,
          "yanchor": "bottom"
         }
        ],
        "xaxis": {
         "anchor": "y",
         "domain": [
          0,
          0.45
         ]
        },
        "xaxis2": {
         "anchor": "y2",
         "domain": [
          0.55,
          1
         ]
        },
        "yaxis": {
         "anchor": "x",
         "domain": [
          0,
          1
         ]
        },
        "yaxis2": {
         "anchor": "x2",
         "domain": [
          0,
          1
         ]
        }
       }
      },
      "text/html": [
       "<div id=\"2a734590-9073-457e-940f-8094441ba529\" style=\"height: 525px; width: 100%;\" class=\"plotly-graph-div\"></div><script type=\"text/javascript\">require([\"plotly\"], function(Plotly) { window.PLOTLYENV=window.PLOTLYENV || {};window.PLOTLYENV.BASE_URL=\"https://plot.ly\";\n",
       "if (document.getElementById(\"2a734590-9073-457e-940f-8094441ba529\")) {\n",
       "    Plotly.newPlot(\"2a734590-9073-457e-940f-8094441ba529\", [{\"name\": \"Austral\", \"x\": [1999, 2000, 2001, 2002, 2003, 2004, 2005, 2006, 2007, 2008, 2009, 2010, 2011, 2012, 2013, 2014, 2015, 2016, 2017, 2018], \"y\": [\"4,723,917\", \"3,881,136\", \"4,008,508\", \"3,376,451\", \"2,935,073\", \"2,656,956\", \"2,338,484\", \"2,303,977\", \"1,826,903\", \"1,964,621\", \"2,107,202\", \"1,939,057\", \"1,804,475\", \"1,904,973\", \"1,767,278\", \"1,654,046\", \"1,536,691\", \"1,448,487\", \"1,270,054\", \"1,459,878\"], \"type\": \"scatter\", \"uid\": \"ceba043b-b173-4268-a366-d68bac0174f0\", \"xaxis\": \"x\", \"yaxis\": \"y\"}, {\"name\": \"Cuyana\", \"x\": [1999, 2000, 2001, 2002, 2003, 2004, 2005, 2006, 2007, 2008, 2009, 2010, 2011, 2012, 2013, 2014, 2015, 2016, 2017, 2018], \"y\": [\"2,659,489\", \"2,405,211\", \"2,586,160\", \"2,839,595\", \"2,645,169\", \"2,373,699\", \"2,273,682\", \"2,194,486\", \"2,103,896\", \"2,018,206\", \"1,914,795\", \"1,882,904\", \"1,871,769\", \"1,816,417\", \"1,753,229\", \"1,701,693\", \"1,614,280\", \"1,581,676\", \"1,505,397\", \"1,404,298\"], \"type\": \"scatter\", \"uid\": \"8c2bfdbc-0626-4ff8-8c25-8983d0f510e7\", \"xaxis\": \"x\", \"yaxis\": \"y\"}, {\"name\": \"Golfo San Jorge\", \"x\": [1999, 2000, 2001, 2002, 2003, 2004, 2005, 2006, 2007, 2008, 2009, 2010, 2011, 2012, 2013, 2014, 2015, 2016, 2017, 2018], \"y\": [\"14,194,013\", \"13,804,252\", \"15,221,825\", \"15,632,382\", \"16,270,039\", \"16,436,761\", \"16,505,833\", \"16,734,899\", \"16,138,826\", \"15,383,414\", \"15,914,545\", \"15,868,202\", \"14,786,525\", \"15,262,564\", \"15,133,166\", \"15,215,428\", \"15,350,793\", \"14,588,582\", \"13,507,679\", \"13,564,277\"], \"type\": \"scatter\", \"uid\": \"42356cfd-16fc-48ff-94e4-9e0a25276afb\", \"xaxis\": \"x\", \"yaxis\": \"y\"}, {\"name\": \"Neuquina\", \"x\": [1999, 2000, 2001, 2002, 2003, 2004, 2005, 2006, 2007, 2008, 2009, 2010, 2011, 2012, 2013, 2014, 2015, 2016, 2017, 2018], \"y\": [\"22,884,492\", \"22,028,372\", \"21,600,907\", \"20,951,913\", \"20,001,263\", \"17,952,039\", \"16,538,314\", \"16,266,501\", \"16,958,754\", \"17,346,449\", \"15,495,552\", \"15,002,583\", \"14,233,198\", \"13,543,911\", \"13,264,860\", \"12,906,054\", \"12,984,135\", \"12,687,039\", \"12,161,557\", \"12,688,978\"], \"type\": \"scatter\", \"uid\": \"5f91e5e6-3194-4830-9d92-72770c97ce77\", \"xaxis\": \"x\", \"yaxis\": \"y\"}, {\"name\": \"Noroeste\", \"x\": [1999, 2000, 2001, 2002, 2003, 2004, 2005, 2006, 2007, 2008, 2009, 2010, 2011, 2012, 2013, 2014, 2015, 2016, 2017, 2018], \"y\": [\"1,166,461\", \"1,169,794\", \"1,199,592\", \"1,160,240\", \"1,105,510\", \"1,013,492\", \"916,154\", \"846,471\", \"872,825\", \"868,661\", \"807,847\", \"720,670\", \"630,312\", \"611,655\", \"542,558\", \"501,035\", \"506,091\", \"462,610\", \"417,784\", \"355,110\"], \"type\": \"scatter\", \"uid\": \"970910ee-14a4-4667-8eb2-967228cad00f\", \"xaxis\": \"x\", \"yaxis\": \"y\"}, {\"name\": \"Austral\", \"x\": [1999, 2000, 2001, 2002, 2003, 2004, 2005, 2006, 2007, 2008, 2009, 2010, 2011, 2012, 2013, 2014, 2015, 2016, 2017, 2018], \"y\": [\"8,406,767\", \"9,011,698\", \"8,972,981\", \"8,835,716\", \"9,011,306\", \"9,135,207\", \"9,660,327\", \"10,210,424\", \"9,270,829\", \"9,119,486\", \"9,917,585\", \"10,435,711\", \"10,818,359\", \"11,135,404\", \"10,513,837\", \"10,015,263\", \"9,653,502\", \"10,591,925\", \"10,681,723\", \"11,521,125\"], \"type\": \"scatter\", \"uid\": \"1e6094ae-2145-4f9c-8f92-4618e8a6c7b7\", \"xaxis\": \"x2\", \"yaxis\": \"y2\"}, {\"name\": \"Cuyana\", \"x\": [1999, 2000, 2001, 2002, 2003, 2004, 2005, 2006, 2007, 2008, 2009, 2010, 2011, 2012, 2013, 2014, 2015, 2016, 2017, 2018], \"y\": [\"78,773\", \"75,351\", \"75,486\", \"194,593\", \"81,315\", \"64,368\", \"64,412\", \"61,918\", \"58,403\", \"57,686\", \"59,516\", \"59,173\", \"61,403\", \"58,284\", \"58,121\", \"56,391\", \"54,040\", \"51,298\", \"48,414\", \"48,964\"], \"type\": \"scatter\", \"uid\": \"7b230f86-c093-4317-9271-ef61bbe1a760\", \"xaxis\": \"x2\", \"yaxis\": \"y2\"}, {\"name\": \"Golfo San Jorge\", \"x\": [1999, 2000, 2001, 2002, 2003, 2004, 2005, 2006, 2007, 2008, 2009, 2010, 2011, 2012, 2013, 2014, 2015, 2016, 2017, 2018], \"y\": [\"2,531,407\", \"2,820,268\", \"5,177,654\", \"3,777,672\", \"3,538,279\", \"3,783,403\", \"4,249,454\", \"4,565,435\", \"4,889,201\", \"4,956,993\", \"5,191,358\", \"5,230,835\", \"4,879,907\", \"5,219,453\", \"5,234,116\", \"5,301,877\", \"5,715,245\", \"5,703,558\", \"5,348,235\", \"4,948,074\"], \"type\": \"scatter\", \"uid\": \"ab34061d-ac03-421a-8c84-703da16ac4fb\", \"xaxis\": \"x2\", \"yaxis\": \"y2\"}, {\"name\": \"Neuquina\", \"x\": [1999, 2000, 2001, 2002, 2003, 2004, 2005, 2006, 2007, 2008, 2009, 2010, 2011, 2012, 2013, 2014, 2015, 2016, 2017, 2018], \"y\": [\"23,525,111\", \"26,251,309\", \"25,989,634\", \"25,763,517\", \"29,885,194\", \"31,708,425\", \"30,197,250\", \"29,759,750\", \"29,925,194\", \"29,473,807\", \"26,970,412\", \"25,978,767\", \"25,159,268\", \"23,857,753\", \"22,642,016\", \"23,217,219\", \"24,630,343\", \"25,969,804\", \"26,177,450\", \"28,394,026\"], \"type\": \"scatter\", \"uid\": \"ebbdd6d0-4b22-430f-8fa5-e580d6d05f88\", \"xaxis\": \"x2\", \"yaxis\": \"y2\"}, {\"name\": \"Noroeste\", \"x\": [1999, 2000, 2001, 2002, 2003, 2004, 2005, 2006, 2007, 2008, 2009, 2010, 2011, 2012, 2013, 2014, 2015, 2016, 2017, 2018], \"y\": [\"6,206,961\", \"7,052,938\", \"7,822,812\", \"7,885,602\", \"8,431,648\", \"7,465,585\", \"7,107,158\", \"7,048,243\", \"6,827,505\", \"6,880,214\", \"6,280,379\", \"5,403,097\", \"4,608,616\", \"3,852,801\", \"3,260,199\", \"2,893,276\", \"2,852,403\", \"2,671,244\", \"2,400,836\", \"2,108,993\"], \"type\": \"scatter\", \"uid\": \"e2572639-c62e-4dce-baaa-d6fdbc09f462\", \"xaxis\": \"x2\", \"yaxis\": \"y2\"}], {\"annotations\": [{\"font\": {\"size\": 16}, \"showarrow\": false, \"text\": \"Petr\\u00f3leo\", \"x\": 0.225, \"xanchor\": \"center\", \"xref\": \"paper\", \"y\": 1.0, \"yanchor\": \"bottom\", \"yref\": \"paper\"}, {\"font\": {\"size\": 16}, \"showarrow\": false, \"text\": \"Gas\", \"x\": 0.775, \"xanchor\": \"center\", \"xref\": \"paper\", \"y\": 1.0, \"yanchor\": \"bottom\", \"yref\": \"paper\"}], \"xaxis\": {\"anchor\": \"y\", \"domain\": [0.0, 0.45]}, \"yaxis\": {\"anchor\": \"x\", \"domain\": [0.0, 1.0]}, \"xaxis2\": {\"anchor\": \"y2\", \"domain\": [0.55, 1.0]}, \"yaxis2\": {\"anchor\": \"x2\", \"domain\": [0.0, 1.0]}, \"title\": {\"text\": \"Todas las Cuencas\"}, \"showlegend\": false, \"updatemenus\": [{\"active\": 5, \"buttons\": [{\"args\": [{\"visible\": [true, false, false, false, false]}, {\"title\": \"Austral\"}], \"label\": \"Austral\", \"method\": \"update\"}, {\"args\": [{\"visible\": [false, true, false, false, false]}, {\"title\": \"Cuyana\"}], \"label\": \"Cuyana\", \"method\": \"update\"}, {\"args\": [{\"visible\": [false, false, true, false, false]}, {\"title\": \"Golfo San Jorge\"}], \"label\": \"Golfo San Jorge\", \"method\": \"update\"}, {\"args\": [{\"visible\": [false, false, false, true, false]}, {\"title\": \"Neuquina\"}], \"label\": \"Neuquina\", \"method\": \"update\"}, {\"args\": [{\"visible\": [false, false, false, false, true]}, {\"title\": \"Noroeste\"}], \"label\": \"Noroeste\", \"method\": \"update\"}, {\"args\": [{\"visible\": [true, true, true, true, true]}, {\"title\": \"Todas las Cuencas\"}], \"label\": \"Todas\", \"method\": \"update\"}], \"direction\": \"right\", \"x\": 0.1, \"xanchor\": \"center\", \"y\": 1.1, \"yanchor\": \"bottom\"}]}, {\"showLink\": false, \"linkText\": \"Export to plot.ly\", \"plotlyServerURL\": \"https://plot.ly\"}); \n",
       "}\n",
       "});</script><script type=\"text/javascript\">window.addEventListener(\"resize\", function(){if (document.getElementById(\"2a734590-9073-457e-940f-8094441ba529\")) {window._Plotly.Plots.resize(document.getElementById(\"2a734590-9073-457e-940f-8094441ba529\"));};})</script>"
      ],
      "text/vnd.plotly.v1+html": [
       "<div id=\"2a734590-9073-457e-940f-8094441ba529\" style=\"height: 525px; width: 100%;\" class=\"plotly-graph-div\"></div><script type=\"text/javascript\">require([\"plotly\"], function(Plotly) { window.PLOTLYENV=window.PLOTLYENV || {};window.PLOTLYENV.BASE_URL=\"https://plot.ly\";\n",
       "if (document.getElementById(\"2a734590-9073-457e-940f-8094441ba529\")) {\n",
       "    Plotly.newPlot(\"2a734590-9073-457e-940f-8094441ba529\", [{\"name\": \"Austral\", \"x\": [1999, 2000, 2001, 2002, 2003, 2004, 2005, 2006, 2007, 2008, 2009, 2010, 2011, 2012, 2013, 2014, 2015, 2016, 2017, 2018], \"y\": [\"4,723,917\", \"3,881,136\", \"4,008,508\", \"3,376,451\", \"2,935,073\", \"2,656,956\", \"2,338,484\", \"2,303,977\", \"1,826,903\", \"1,964,621\", \"2,107,202\", \"1,939,057\", \"1,804,475\", \"1,904,973\", \"1,767,278\", \"1,654,046\", \"1,536,691\", \"1,448,487\", \"1,270,054\", \"1,459,878\"], \"type\": \"scatter\", \"uid\": \"ceba043b-b173-4268-a366-d68bac0174f0\", \"xaxis\": \"x\", \"yaxis\": \"y\"}, {\"name\": \"Cuyana\", \"x\": [1999, 2000, 2001, 2002, 2003, 2004, 2005, 2006, 2007, 2008, 2009, 2010, 2011, 2012, 2013, 2014, 2015, 2016, 2017, 2018], \"y\": [\"2,659,489\", \"2,405,211\", \"2,586,160\", \"2,839,595\", \"2,645,169\", \"2,373,699\", \"2,273,682\", \"2,194,486\", \"2,103,896\", \"2,018,206\", \"1,914,795\", \"1,882,904\", \"1,871,769\", \"1,816,417\", \"1,753,229\", \"1,701,693\", \"1,614,280\", \"1,581,676\", \"1,505,397\", \"1,404,298\"], \"type\": \"scatter\", \"uid\": \"8c2bfdbc-0626-4ff8-8c25-8983d0f510e7\", \"xaxis\": \"x\", \"yaxis\": \"y\"}, {\"name\": \"Golfo San Jorge\", \"x\": [1999, 2000, 2001, 2002, 2003, 2004, 2005, 2006, 2007, 2008, 2009, 2010, 2011, 2012, 2013, 2014, 2015, 2016, 2017, 2018], \"y\": [\"14,194,013\", \"13,804,252\", \"15,221,825\", \"15,632,382\", \"16,270,039\", \"16,436,761\", \"16,505,833\", \"16,734,899\", \"16,138,826\", \"15,383,414\", \"15,914,545\", \"15,868,202\", \"14,786,525\", \"15,262,564\", \"15,133,166\", \"15,215,428\", \"15,350,793\", \"14,588,582\", \"13,507,679\", \"13,564,277\"], \"type\": \"scatter\", \"uid\": \"42356cfd-16fc-48ff-94e4-9e0a25276afb\", \"xaxis\": \"x\", \"yaxis\": \"y\"}, {\"name\": \"Neuquina\", \"x\": [1999, 2000, 2001, 2002, 2003, 2004, 2005, 2006, 2007, 2008, 2009, 2010, 2011, 2012, 2013, 2014, 2015, 2016, 2017, 2018], \"y\": [\"22,884,492\", \"22,028,372\", \"21,600,907\", \"20,951,913\", \"20,001,263\", \"17,952,039\", \"16,538,314\", \"16,266,501\", \"16,958,754\", \"17,346,449\", \"15,495,552\", \"15,002,583\", \"14,233,198\", \"13,543,911\", \"13,264,860\", \"12,906,054\", \"12,984,135\", \"12,687,039\", \"12,161,557\", \"12,688,978\"], \"type\": \"scatter\", \"uid\": \"5f91e5e6-3194-4830-9d92-72770c97ce77\", \"xaxis\": \"x\", \"yaxis\": \"y\"}, {\"name\": \"Noroeste\", \"x\": [1999, 2000, 2001, 2002, 2003, 2004, 2005, 2006, 2007, 2008, 2009, 2010, 2011, 2012, 2013, 2014, 2015, 2016, 2017, 2018], \"y\": [\"1,166,461\", \"1,169,794\", \"1,199,592\", \"1,160,240\", \"1,105,510\", \"1,013,492\", \"916,154\", \"846,471\", \"872,825\", \"868,661\", \"807,847\", \"720,670\", \"630,312\", \"611,655\", \"542,558\", \"501,035\", \"506,091\", \"462,610\", \"417,784\", \"355,110\"], \"type\": \"scatter\", \"uid\": \"970910ee-14a4-4667-8eb2-967228cad00f\", \"xaxis\": \"x\", \"yaxis\": \"y\"}, {\"name\": \"Austral\", \"x\": [1999, 2000, 2001, 2002, 2003, 2004, 2005, 2006, 2007, 2008, 2009, 2010, 2011, 2012, 2013, 2014, 2015, 2016, 2017, 2018], \"y\": [\"8,406,767\", \"9,011,698\", \"8,972,981\", \"8,835,716\", \"9,011,306\", \"9,135,207\", \"9,660,327\", \"10,210,424\", \"9,270,829\", \"9,119,486\", \"9,917,585\", \"10,435,711\", \"10,818,359\", \"11,135,404\", \"10,513,837\", \"10,015,263\", \"9,653,502\", \"10,591,925\", \"10,681,723\", \"11,521,125\"], \"type\": \"scatter\", \"uid\": \"1e6094ae-2145-4f9c-8f92-4618e8a6c7b7\", \"xaxis\": \"x2\", \"yaxis\": \"y2\"}, {\"name\": \"Cuyana\", \"x\": [1999, 2000, 2001, 2002, 2003, 2004, 2005, 2006, 2007, 2008, 2009, 2010, 2011, 2012, 2013, 2014, 2015, 2016, 2017, 2018], \"y\": [\"78,773\", \"75,351\", \"75,486\", \"194,593\", \"81,315\", \"64,368\", \"64,412\", \"61,918\", \"58,403\", \"57,686\", \"59,516\", \"59,173\", \"61,403\", \"58,284\", \"58,121\", \"56,391\", \"54,040\", \"51,298\", \"48,414\", \"48,964\"], \"type\": \"scatter\", \"uid\": \"7b230f86-c093-4317-9271-ef61bbe1a760\", \"xaxis\": \"x2\", \"yaxis\": \"y2\"}, {\"name\": \"Golfo San Jorge\", \"x\": [1999, 2000, 2001, 2002, 2003, 2004, 2005, 2006, 2007, 2008, 2009, 2010, 2011, 2012, 2013, 2014, 2015, 2016, 2017, 2018], \"y\": [\"2,531,407\", \"2,820,268\", \"5,177,654\", \"3,777,672\", \"3,538,279\", \"3,783,403\", \"4,249,454\", \"4,565,435\", \"4,889,201\", \"4,956,993\", \"5,191,358\", \"5,230,835\", \"4,879,907\", \"5,219,453\", \"5,234,116\", \"5,301,877\", \"5,715,245\", \"5,703,558\", \"5,348,235\", \"4,948,074\"], \"type\": \"scatter\", \"uid\": \"ab34061d-ac03-421a-8c84-703da16ac4fb\", \"xaxis\": \"x2\", \"yaxis\": \"y2\"}, {\"name\": \"Neuquina\", \"x\": [1999, 2000, 2001, 2002, 2003, 2004, 2005, 2006, 2007, 2008, 2009, 2010, 2011, 2012, 2013, 2014, 2015, 2016, 2017, 2018], \"y\": [\"23,525,111\", \"26,251,309\", \"25,989,634\", \"25,763,517\", \"29,885,194\", \"31,708,425\", \"30,197,250\", \"29,759,750\", \"29,925,194\", \"29,473,807\", \"26,970,412\", \"25,978,767\", \"25,159,268\", \"23,857,753\", \"22,642,016\", \"23,217,219\", \"24,630,343\", \"25,969,804\", \"26,177,450\", \"28,394,026\"], \"type\": \"scatter\", \"uid\": \"ebbdd6d0-4b22-430f-8fa5-e580d6d05f88\", \"xaxis\": \"x2\", \"yaxis\": \"y2\"}, {\"name\": \"Noroeste\", \"x\": [1999, 2000, 2001, 2002, 2003, 2004, 2005, 2006, 2007, 2008, 2009, 2010, 2011, 2012, 2013, 2014, 2015, 2016, 2017, 2018], \"y\": [\"6,206,961\", \"7,052,938\", \"7,822,812\", \"7,885,602\", \"8,431,648\", \"7,465,585\", \"7,107,158\", \"7,048,243\", \"6,827,505\", \"6,880,214\", \"6,280,379\", \"5,403,097\", \"4,608,616\", \"3,852,801\", \"3,260,199\", \"2,893,276\", \"2,852,403\", \"2,671,244\", \"2,400,836\", \"2,108,993\"], \"type\": \"scatter\", \"uid\": \"e2572639-c62e-4dce-baaa-d6fdbc09f462\", \"xaxis\": \"x2\", \"yaxis\": \"y2\"}], {\"annotations\": [{\"font\": {\"size\": 16}, \"showarrow\": false, \"text\": \"Petr\\u00f3leo\", \"x\": 0.225, \"xanchor\": \"center\", \"xref\": \"paper\", \"y\": 1.0, \"yanchor\": \"bottom\", \"yref\": \"paper\"}, {\"font\": {\"size\": 16}, \"showarrow\": false, \"text\": \"Gas\", \"x\": 0.775, \"xanchor\": \"center\", \"xref\": \"paper\", \"y\": 1.0, \"yanchor\": \"bottom\", \"yref\": \"paper\"}], \"xaxis\": {\"anchor\": \"y\", \"domain\": [0.0, 0.45]}, \"yaxis\": {\"anchor\": \"x\", \"domain\": [0.0, 1.0]}, \"xaxis2\": {\"anchor\": \"y2\", \"domain\": [0.55, 1.0]}, \"yaxis2\": {\"anchor\": \"x2\", \"domain\": [0.0, 1.0]}, \"title\": {\"text\": \"Todas las Cuencas\"}, \"showlegend\": false, \"updatemenus\": [{\"active\": 5, \"buttons\": [{\"args\": [{\"visible\": [true, false, false, false, false]}, {\"title\": \"Austral\"}], \"label\": \"Austral\", \"method\": \"update\"}, {\"args\": [{\"visible\": [false, true, false, false, false]}, {\"title\": \"Cuyana\"}], \"label\": \"Cuyana\", \"method\": \"update\"}, {\"args\": [{\"visible\": [false, false, true, false, false]}, {\"title\": \"Golfo San Jorge\"}], \"label\": \"Golfo San Jorge\", \"method\": \"update\"}, {\"args\": [{\"visible\": [false, false, false, true, false]}, {\"title\": \"Neuquina\"}], \"label\": \"Neuquina\", \"method\": \"update\"}, {\"args\": [{\"visible\": [false, false, false, false, true]}, {\"title\": \"Noroeste\"}], \"label\": \"Noroeste\", \"method\": \"update\"}, {\"args\": [{\"visible\": [true, true, true, true, true]}, {\"title\": \"Todas las Cuencas\"}], \"label\": \"Todas\", \"method\": \"update\"}], \"direction\": \"right\", \"x\": 0.1, \"xanchor\": \"center\", \"y\": 1.1, \"yanchor\": \"bottom\"}]}, {\"showLink\": false, \"linkText\": \"Export to plot.ly\", \"plotlyServerURL\": \"https://plot.ly\"}); \n",
       "}\n",
       "});</script><script type=\"text/javascript\">window.addEventListener(\"resize\", function(){if (document.getElementById(\"2a734590-9073-457e-940f-8094441ba529\")) {window._Plotly.Plots.resize(document.getElementById(\"2a734590-9073-457e-940f-8094441ba529\"));};})</script>"
      ]
     },
     "metadata": {},
     "output_type": "display_data"
    }
   ],
   "source": [
    "# Fuente de este codigo: https://stackoverflow.com/questions/50518090/python-plotly-multiple-dropdown-plots-each-of-which-have-subplots\n",
    "\n",
    "# Creo figura\n",
    "labels = [\"Austral\", \"Cuyana\", \"Golfo San Jorge\", \"Neuquina\", \"Noroeste\"]\n",
    "\n",
    "fig = tools.make_subplots(rows=1, cols=2, subplot_titles=('Petróleo', 'Gas'), print_grid=False)\n",
    "\n",
    "# Creo graficos de petroleo\n",
    "austral_pet_an = go.Scatter(x=df_cuenca.query('cuenca == \"AUSTRAL\"').anio,\n",
    "                        y=df_cuenca.query('cuenca == \"AUSTRAL\"').produccion_petroleo,\n",
    "                        name='Austral')\n",
    "\n",
    "cuyana_pet_an = go.Scatter(x=df_cuenca.query('cuenca == \"CUYANA\"').anio,\n",
    "                        y=df_cuenca.query('cuenca == \"CUYANA\"').produccion_petroleo,\n",
    "                        name='Cuyana')\n",
    "\n",
    "golfo_pet_an = go.Scatter(x=df_cuenca.query('cuenca == \"GOLFO SAN JORGE\"').anio,\n",
    "                        y=df_cuenca.query('cuenca == \"GOLFO SAN JORGE\"').produccion_petroleo,\n",
    "                        name='Golfo San Jorge')\n",
    "\n",
    "neuquina_pet_an = go.Scatter(x=df_cuenca.query('cuenca == \"NEUQUINA\"').anio,\n",
    "                        y=df_cuenca.query('cuenca == \"NEUQUINA\"').produccion_petroleo,\n",
    "                        name='Neuquina')\n",
    "\n",
    "noroeste_pet_an = go.Scatter(x=df_cuenca.query('cuenca == \"NOROESTE\"').anio,\n",
    "                        y=df_cuenca.query('cuenca == \"NOROESTE\"').produccion_petroleo,\n",
    "                        name='Noroeste')\n",
    "\n",
    "# Superpongo graficos para que funcione el efecto de la botonera\n",
    "fig.append_trace(austral_pet_an, 1, 1)\n",
    "fig.append_trace(cuyana_pet_an, 1, 1)\n",
    "fig.append_trace(golfo_pet_an, 1, 1)\n",
    "fig.append_trace(neuquina_pet_an, 1, 1)\n",
    "fig.append_trace(noroeste_pet_an, 1, 1)\n",
    "\n",
    "\n",
    "# Creo graficos de gas\n",
    "austral_gas_an = go.Scatter(x=df_cuenca.query('cuenca == \"AUSTRAL\"').anio,\n",
    "                        y=df_cuenca.query('cuenca == \"AUSTRAL\"').produccion_gas,\n",
    "                        name='Austral')\n",
    "\n",
    "cuyana_gas_an = go.Scatter(x=df_cuenca.query('cuenca == \"CUYANA\"').anio,\n",
    "                        y=df_cuenca.query('cuenca == \"CUYANA\"').produccion_gas,\n",
    "                        name='Cuyana')\n",
    "\n",
    "golfo_gas_an = go.Scatter(x=df_cuenca.query('cuenca == \"GOLFO SAN JORGE\"').anio,\n",
    "                        y=df_cuenca.query('cuenca == \"GOLFO SAN JORGE\"').produccion_gas,\n",
    "                        name='Golfo San Jorge')\n",
    "\n",
    "neuquina_gas_an = go.Scatter(x=df_cuenca.query('cuenca == \"NEUQUINA\"').anio,\n",
    "                        y=df_cuenca.query('cuenca == \"NEUQUINA\"').produccion_gas,\n",
    "                        name='Neuquina')\n",
    "\n",
    "noroeste_gas_an = go.Scatter(x=df_cuenca.query('cuenca == \"NOROESTE\"').anio,\n",
    "                        y=df_cuenca.query('cuenca == \"NOROESTE\"').produccion_gas,\n",
    "                        name='Noroeste')\n",
    "\n",
    "fig.append_trace(austral_gas_an, 1, 2)\n",
    "fig.append_trace(cuyana_gas_an, 1, 2)\n",
    "fig.append_trace(golfo_gas_an, 1, 2)\n",
    "fig.append_trace(neuquina_gas_an, 1, 2)\n",
    "fig.append_trace(noroeste_gas_an, 1, 2)\n",
    "\n",
    "### Creo botonera \n",
    "buttons = []\n",
    "for i, label in enumerate(labels):\n",
    "    visibility = [i==j for j in range(len(labels))]\n",
    "    button = dict(\n",
    "                 label =  label,\n",
    "                 method = 'update',\n",
    "                 args = [{'visible': visibility},\n",
    "                     {'title': label}])\n",
    "    buttons.append(button)\n",
    "    \n",
    "buttons.append({'label': 'Todas',\n",
    "                'method': 'update',\n",
    "                'args': [{'visible': [True, True, True, True, True]}, {'title': 'Todas las Cuencas'}]})\n",
    "    \n",
    "\n",
    "updatemenus = list([\n",
    "    dict(active=5,\n",
    "        buttons=buttons,\n",
    "         x=0.1,\n",
    "         y=1.1,\n",
    "         xanchor = 'center',\n",
    "         yanchor = 'bottom',\n",
    "         direction=\"right\"\n",
    "    )   \n",
    "])\n",
    "\n",
    "fig['layout']['title'] = 'Todas las Cuencas'\n",
    "fig['layout']['showlegend'] = False\n",
    "fig['layout']['updatemenus'] = updatemenus\n",
    "\n",
    "iplot(fig, filename='dropdown')"
   ]
  },
  {
   "cell_type": "code",
   "execution_count": null,
   "metadata": {},
   "outputs": [],
   "source": []
  }
 ],
 "metadata": {
  "kernelspec": {
   "display_name": "Python 3",
   "language": "python",
   "name": "python3"
  },
  "language_info": {
   "codemirror_mode": {
    "name": "ipython",
    "version": 3
   },
   "file_extension": ".py",
   "mimetype": "text/x-python",
   "name": "python",
   "nbconvert_exporter": "python",
   "pygments_lexer": "ipython3",
   "version": "3.6.7"
  }
 },
 "nbformat": 4,
 "nbformat_minor": 2
}
