{
 "cells": [
  {
   "cell_type": "code",
   "execution_count": 45,
   "metadata": {},
   "outputs": [],
   "source": [
    "# importar librerias\n",
    "import pandas as pd\n",
    "import plotly.plotly as py\n",
    "import plotly.graph_objs as go\n",
    "from plotly import tools"
   ]
  },
  {
   "cell_type": "code",
   "execution_count": null,
   "metadata": {},
   "outputs": [],
   "source": [
    "# para graficar localmente\n",
    "from plotly.offline import download_plotlyjs, init_notebook_mode, plot, iplot\n",
    "\n",
    "init_notebook_mode(connected=True)"
   ]
  },
  {
   "cell_type": "code",
   "execution_count": 57,
   "metadata": {},
   "outputs": [],
   "source": [
    "# cargar datos\n",
    "df_pet = pd.read_csv('insumos/produccion_petroleo_1999-2018.csv', sep=\";\")\n",
    "df_gas = pd.read_csv('insumos/produccion_gas_1999-2018.csv', sep=\";\")"
   ]
  },
  {
   "cell_type": "code",
   "execution_count": 63,
   "metadata": {},
   "outputs": [
    {
     "data": {
      "application/vnd.plotly.v1+json": {
       "config": {
        "linkText": "Export to plot.ly",
        "plotlyServerURL": "https://plot.ly",
        "showLink": false
       },
       "data": [
        {
         "name": "Petróleo",
         "type": "scatter",
         "uid": "e7e4fef7-a390-4e90-9f59-2c55d3014f45",
         "x": [
          1999,
          2000,
          2001,
          2002,
          2003,
          2004,
          2005,
          2006,
          2007,
          2008,
          2009,
          2010,
          2011,
          2012,
          2013,
          2014,
          2015,
          2016,
          2017,
          2018
         ],
         "y": [
          "45,628,372",
          "43,288,766",
          "44,616,993",
          "43,960,582",
          "42,957,054",
          "40,432,948",
          "38,572,465",
          "38,346,334",
          "37,904,567",
          "37,592,946",
          "36,239,941",
          "35,413,416",
          "33,326,279",
          "33,139,519",
          "32,461,091",
          "31,978,256",
          "31,991,990",
          "30,768,393",
          "28,862,470",
          "29,472,542"
         ]
        },
        {
         "name": "Gas",
         "type": "scatter",
         "uid": "e7dcd08f-68d4-4d85-a60b-4b2aa8ac9313",
         "x": [
          1999,
          2000,
          2001,
          2002,
          2003,
          2004,
          2005,
          2006,
          2007,
          2008,
          2009,
          2010,
          2011,
          2012,
          2013,
          2014,
          2015,
          2016,
          2017,
          2018
         ],
         "y": [
          "40,749,019",
          "45,211,565",
          "48,038,567",
          "46,457,100",
          "50,947,741",
          "52,156,988",
          "51,278,599",
          "51,645,774",
          "50,971,152",
          "50,488,255",
          "48,419,249",
          "47,107,584",
          "45,527,554",
          "44,123,694",
          "41,708,289",
          "41,484,025",
          "42,905,533",
          "44,987,829",
          "44,656,659",
          "47,021,182"
         ],
         "yaxis": "y2"
        }
       ],
       "layout": {
        "title": {
         "text": "Producción de Hidrocarburos: Anual"
        },
        "yaxis": {
         "range": [
          25000000,
          55000000
         ],
         "title": {
          "text": "Petróleo (m3)"
         }
        },
        "yaxis2": {
         "overlaying": "y",
         "range": [
          25000000,
          55000000
         ],
         "side": "right",
         "title": {
          "text": "Gas (miles de m3)"
         }
        }
       }
      },
      "text/html": [
       "<div id=\"fabe1046-aad2-4493-b9c4-98aa62fc5370\" style=\"height: 525px; width: 100%;\" class=\"plotly-graph-div\"></div><script type=\"text/javascript\">require([\"plotly\"], function(Plotly) { window.PLOTLYENV=window.PLOTLYENV || {};window.PLOTLYENV.BASE_URL=\"https://plot.ly\";\n",
       "if (document.getElementById(\"fabe1046-aad2-4493-b9c4-98aa62fc5370\")) {\n",
       "    Plotly.newPlot(\"fabe1046-aad2-4493-b9c4-98aa62fc5370\", [{\"name\": \"Petr\\u00f3leo\", \"x\": [1999, 2000, 2001, 2002, 2003, 2004, 2005, 2006, 2007, 2008, 2009, 2010, 2011, 2012, 2013, 2014, 2015, 2016, 2017, 2018], \"y\": [\"45,628,372\", \"43,288,766\", \"44,616,993\", \"43,960,582\", \"42,957,054\", \"40,432,948\", \"38,572,465\", \"38,346,334\", \"37,904,567\", \"37,592,946\", \"36,239,941\", \"35,413,416\", \"33,326,279\", \"33,139,519\", \"32,461,091\", \"31,978,256\", \"31,991,990\", \"30,768,393\", \"28,862,470\", \"29,472,542\"], \"type\": \"scatter\", \"uid\": \"e7e4fef7-a390-4e90-9f59-2c55d3014f45\"}, {\"name\": \"Gas\", \"x\": [1999, 2000, 2001, 2002, 2003, 2004, 2005, 2006, 2007, 2008, 2009, 2010, 2011, 2012, 2013, 2014, 2015, 2016, 2017, 2018], \"y\": [\"40,749,019\", \"45,211,565\", \"48,038,567\", \"46,457,100\", \"50,947,741\", \"52,156,988\", \"51,278,599\", \"51,645,774\", \"50,971,152\", \"50,488,255\", \"48,419,249\", \"47,107,584\", \"45,527,554\", \"44,123,694\", \"41,708,289\", \"41,484,025\", \"42,905,533\", \"44,987,829\", \"44,656,659\", \"47,021,182\"], \"yaxis\": \"y2\", \"type\": \"scatter\", \"uid\": \"e7dcd08f-68d4-4d85-a60b-4b2aa8ac9313\"}], {\"title\": {\"text\": \"Producci\\u00f3n de Hidrocarburos: Anual\"}, \"yaxis\": {\"range\": [25000000, 55000000], \"title\": {\"text\": \"Petr\\u00f3leo (m3)\"}}, \"yaxis2\": {\"overlaying\": \"y\", \"range\": [25000000, 55000000], \"side\": \"right\", \"title\": {\"text\": \"Gas (miles de m3)\"}}}, {\"showLink\": false, \"linkText\": \"Export to plot.ly\", \"plotlyServerURL\": \"https://plot.ly\"}); \n",
       "}\n",
       "});</script><script type=\"text/javascript\">window.addEventListener(\"resize\", function(){if (document.getElementById(\"fabe1046-aad2-4493-b9c4-98aa62fc5370\")) {window._Plotly.Plots.resize(document.getElementById(\"fabe1046-aad2-4493-b9c4-98aa62fc5370\"));};})</script>"
      ],
      "text/vnd.plotly.v1+html": [
       "<div id=\"fabe1046-aad2-4493-b9c4-98aa62fc5370\" style=\"height: 525px; width: 100%;\" class=\"plotly-graph-div\"></div><script type=\"text/javascript\">require([\"plotly\"], function(Plotly) { window.PLOTLYENV=window.PLOTLYENV || {};window.PLOTLYENV.BASE_URL=\"https://plot.ly\";\n",
       "if (document.getElementById(\"fabe1046-aad2-4493-b9c4-98aa62fc5370\")) {\n",
       "    Plotly.newPlot(\"fabe1046-aad2-4493-b9c4-98aa62fc5370\", [{\"name\": \"Petr\\u00f3leo\", \"x\": [1999, 2000, 2001, 2002, 2003, 2004, 2005, 2006, 2007, 2008, 2009, 2010, 2011, 2012, 2013, 2014, 2015, 2016, 2017, 2018], \"y\": [\"45,628,372\", \"43,288,766\", \"44,616,993\", \"43,960,582\", \"42,957,054\", \"40,432,948\", \"38,572,465\", \"38,346,334\", \"37,904,567\", \"37,592,946\", \"36,239,941\", \"35,413,416\", \"33,326,279\", \"33,139,519\", \"32,461,091\", \"31,978,256\", \"31,991,990\", \"30,768,393\", \"28,862,470\", \"29,472,542\"], \"type\": \"scatter\", \"uid\": \"e7e4fef7-a390-4e90-9f59-2c55d3014f45\"}, {\"name\": \"Gas\", \"x\": [1999, 2000, 2001, 2002, 2003, 2004, 2005, 2006, 2007, 2008, 2009, 2010, 2011, 2012, 2013, 2014, 2015, 2016, 2017, 2018], \"y\": [\"40,749,019\", \"45,211,565\", \"48,038,567\", \"46,457,100\", \"50,947,741\", \"52,156,988\", \"51,278,599\", \"51,645,774\", \"50,971,152\", \"50,488,255\", \"48,419,249\", \"47,107,584\", \"45,527,554\", \"44,123,694\", \"41,708,289\", \"41,484,025\", \"42,905,533\", \"44,987,829\", \"44,656,659\", \"47,021,182\"], \"yaxis\": \"y2\", \"type\": \"scatter\", \"uid\": \"e7dcd08f-68d4-4d85-a60b-4b2aa8ac9313\"}], {\"title\": {\"text\": \"Producci\\u00f3n de Hidrocarburos: Anual\"}, \"yaxis\": {\"range\": [25000000, 55000000], \"title\": {\"text\": \"Petr\\u00f3leo (m3)\"}}, \"yaxis2\": {\"overlaying\": \"y\", \"range\": [25000000, 55000000], \"side\": \"right\", \"title\": {\"text\": \"Gas (miles de m3)\"}}}, {\"showLink\": false, \"linkText\": \"Export to plot.ly\", \"plotlyServerURL\": \"https://plot.ly\"}); \n",
       "}\n",
       "});</script><script type=\"text/javascript\">window.addEventListener(\"resize\", function(){if (document.getElementById(\"fabe1046-aad2-4493-b9c4-98aa62fc5370\")) {window._Plotly.Plots.resize(document.getElementById(\"fabe1046-aad2-4493-b9c4-98aa62fc5370\"));};})</script>"
      ]
     },
     "metadata": {},
     "output_type": "display_data"
    }
   ],
   "source": [
    "pet_produccion_anual = go.Scatter(\n",
    "    x=df_petroleo.anio,\n",
    "    y=df_petroleo.produccion_petroleo,\n",
    "    name='Petróleo'\n",
    ")\n",
    "\n",
    "gas_produccion_anual = go.Scatter(\n",
    "    x=df_gas.anio,\n",
    "    y=df_gas.produccion_gas,\n",
    "    yaxis='y2',\n",
    "    name='Gas'\n",
    ")\n",
    "data = [pet_produccion_anual, gas_produccion_anual]\n",
    "layout = go.Layout(\n",
    "    title='Producción de Hidrocarburos: Anual',\n",
    "    yaxis=dict(\n",
    "        title='Petróleo (m3)',\n",
    "        range=[25000000, 55000000]\n",
    "    ),\n",
    "    yaxis2=dict(\n",
    "        title='Gas (miles de m3)',\n",
    "        overlaying='y',\n",
    "        side='right',\n",
    "        range=[25000000, 55000000]\n",
    "    )\n",
    ")\n",
    "fig = go.Figure(data=data, layout=layout)\n",
    "iplot(fig, filename='prod_anual')"
   ]
  },
  {
   "cell_type": "code",
   "execution_count": 60,
   "metadata": {},
   "outputs": [],
   "source": [
    "# cargar datos\n",
    "df_pett1 = pd.read_csv('insumos/produccion_petroleo_1999-2019_t1.csv', sep=\";\")\n",
    "df_gast1 = pd.read_csv('insumos/produccion_gas_1999-2019_t1.csv', sep=\";\")"
   ]
  },
  {
   "cell_type": "code",
   "execution_count": 70,
   "metadata": {},
   "outputs": [
    {
     "data": {
      "application/vnd.plotly.v1+json": {
       "config": {
        "linkText": "Export to plot.ly",
        "plotlyServerURL": "https://plot.ly",
        "showLink": false
       },
       "data": [
        {
         "name": "Petróleo",
         "type": "scatter",
         "uid": "e9c3622e-ee17-4246-be10-f7a370a50cb5",
         "x": [
          1999,
          2000,
          2001,
          2002,
          2003,
          2004,
          2005,
          2006,
          2007,
          2008,
          2009,
          2010,
          2011,
          2012,
          2013,
          2014,
          2015,
          2016,
          2017,
          2018,
          2019
         ],
         "y": [
          "11,736,777",
          "10,842,922",
          "10,627,484",
          "10,923,324",
          "10,612,316",
          "10,085,229",
          "9,701,388",
          "9,249,294",
          "9,375,020",
          "9,478,757",
          "9,218,912",
          "8,922,352",
          "8,590,303",
          "8,346,678",
          "7,928,292",
          "7,981,395",
          "7,888,575",
          "7,831,044",
          "7,260,760",
          "7,186,432",
          "8,687,685"
         ]
        },
        {
         "name": "Gas",
         "type": "scatter",
         "uid": "5d3f6e43-5f55-421c-b611-dd78f7caca4d",
         "x": [
          1999,
          2000,
          2001,
          2002,
          2003,
          2004,
          2005,
          2006,
          2007,
          2008,
          2009,
          2010,
          2011,
          2012,
          2013,
          2014,
          2015,
          2016,
          2017,
          2018,
          2019
         ],
         "y": [
          "9,320,171",
          "10,380,909",
          "11,544,260",
          "10,598,517",
          "10,818,705",
          "12,582,091",
          "12,024,497",
          "12,467,694",
          "12,174,450",
          "12,405,445",
          "11,983,442",
          "11,449,162",
          "11,042,079",
          "11,032,925",
          "10,241,057",
          "10,209,789",
          "10,436,992",
          "10,976,931",
          "10,878,636",
          "11,242,699",
          "16,669,889"
         ],
         "yaxis": "y2"
        }
       ],
       "layout": {
        "title": {
         "text": "Producción de Hidrocarburos: 1º Trimestre"
        },
        "xaxis": {
         "range": [
          1999,
          2019
         ],
         "tickangle": -45
        },
        "yaxis": {
         "range": [
          0,
          18000000
         ],
         "title": {
          "text": "Petróleo (m3)"
         }
        },
        "yaxis2": {
         "overlaying": "y",
         "range": [
          0,
          18000000
         ],
         "side": "right",
         "title": {
          "text": "Gas (miles de m3)"
         }
        }
       }
      },
      "text/html": [
       "<div id=\"3a29ae75-e794-43ae-a593-27b12f41c981\" style=\"height: 525px; width: 100%;\" class=\"plotly-graph-div\"></div><script type=\"text/javascript\">require([\"plotly\"], function(Plotly) { window.PLOTLYENV=window.PLOTLYENV || {};window.PLOTLYENV.BASE_URL=\"https://plot.ly\";\n",
       "if (document.getElementById(\"3a29ae75-e794-43ae-a593-27b12f41c981\")) {\n",
       "    Plotly.newPlot(\"3a29ae75-e794-43ae-a593-27b12f41c981\", [{\"name\": \"Petr\\u00f3leo\", \"x\": [1999, 2000, 2001, 2002, 2003, 2004, 2005, 2006, 2007, 2008, 2009, 2010, 2011, 2012, 2013, 2014, 2015, 2016, 2017, 2018, 2019], \"y\": [\"11,736,777\", \"10,842,922\", \"10,627,484\", \"10,923,324\", \"10,612,316\", \"10,085,229\", \"9,701,388\", \"9,249,294\", \"9,375,020\", \"9,478,757\", \"9,218,912\", \"8,922,352\", \"8,590,303\", \"8,346,678\", \"7,928,292\", \"7,981,395\", \"7,888,575\", \"7,831,044\", \"7,260,760\", \"7,186,432\", \"8,687,685\"], \"type\": \"scatter\", \"uid\": \"e9c3622e-ee17-4246-be10-f7a370a50cb5\"}, {\"name\": \"Gas\", \"x\": [1999, 2000, 2001, 2002, 2003, 2004, 2005, 2006, 2007, 2008, 2009, 2010, 2011, 2012, 2013, 2014, 2015, 2016, 2017, 2018, 2019], \"y\": [\"9,320,171\", \"10,380,909\", \"11,544,260\", \"10,598,517\", \"10,818,705\", \"12,582,091\", \"12,024,497\", \"12,467,694\", \"12,174,450\", \"12,405,445\", \"11,983,442\", \"11,449,162\", \"11,042,079\", \"11,032,925\", \"10,241,057\", \"10,209,789\", \"10,436,992\", \"10,976,931\", \"10,878,636\", \"11,242,699\", \"16,669,889\"], \"yaxis\": \"y2\", \"type\": \"scatter\", \"uid\": \"5d3f6e43-5f55-421c-b611-dd78f7caca4d\"}], {\"title\": {\"text\": \"Producci\\u00f3n de Hidrocarburos: 1\\u00ba Trimestre\"}, \"xaxis\": {\"range\": [1999, 2019], \"tickangle\": -45}, \"yaxis\": {\"range\": [0, 18000000], \"title\": {\"text\": \"Petr\\u00f3leo (m3)\"}}, \"yaxis2\": {\"overlaying\": \"y\", \"range\": [0, 18000000], \"side\": \"right\", \"title\": {\"text\": \"Gas (miles de m3)\"}}}, {\"showLink\": false, \"linkText\": \"Export to plot.ly\", \"plotlyServerURL\": \"https://plot.ly\"}); \n",
       "}\n",
       "});</script><script type=\"text/javascript\">window.addEventListener(\"resize\", function(){if (document.getElementById(\"3a29ae75-e794-43ae-a593-27b12f41c981\")) {window._Plotly.Plots.resize(document.getElementById(\"3a29ae75-e794-43ae-a593-27b12f41c981\"));};})</script>"
      ],
      "text/vnd.plotly.v1+html": [
       "<div id=\"3a29ae75-e794-43ae-a593-27b12f41c981\" style=\"height: 525px; width: 100%;\" class=\"plotly-graph-div\"></div><script type=\"text/javascript\">require([\"plotly\"], function(Plotly) { window.PLOTLYENV=window.PLOTLYENV || {};window.PLOTLYENV.BASE_URL=\"https://plot.ly\";\n",
       "if (document.getElementById(\"3a29ae75-e794-43ae-a593-27b12f41c981\")) {\n",
       "    Plotly.newPlot(\"3a29ae75-e794-43ae-a593-27b12f41c981\", [{\"name\": \"Petr\\u00f3leo\", \"x\": [1999, 2000, 2001, 2002, 2003, 2004, 2005, 2006, 2007, 2008, 2009, 2010, 2011, 2012, 2013, 2014, 2015, 2016, 2017, 2018, 2019], \"y\": [\"11,736,777\", \"10,842,922\", \"10,627,484\", \"10,923,324\", \"10,612,316\", \"10,085,229\", \"9,701,388\", \"9,249,294\", \"9,375,020\", \"9,478,757\", \"9,218,912\", \"8,922,352\", \"8,590,303\", \"8,346,678\", \"7,928,292\", \"7,981,395\", \"7,888,575\", \"7,831,044\", \"7,260,760\", \"7,186,432\", \"8,687,685\"], \"type\": \"scatter\", \"uid\": \"e9c3622e-ee17-4246-be10-f7a370a50cb5\"}, {\"name\": \"Gas\", \"x\": [1999, 2000, 2001, 2002, 2003, 2004, 2005, 2006, 2007, 2008, 2009, 2010, 2011, 2012, 2013, 2014, 2015, 2016, 2017, 2018, 2019], \"y\": [\"9,320,171\", \"10,380,909\", \"11,544,260\", \"10,598,517\", \"10,818,705\", \"12,582,091\", \"12,024,497\", \"12,467,694\", \"12,174,450\", \"12,405,445\", \"11,983,442\", \"11,449,162\", \"11,042,079\", \"11,032,925\", \"10,241,057\", \"10,209,789\", \"10,436,992\", \"10,976,931\", \"10,878,636\", \"11,242,699\", \"16,669,889\"], \"yaxis\": \"y2\", \"type\": \"scatter\", \"uid\": \"5d3f6e43-5f55-421c-b611-dd78f7caca4d\"}], {\"title\": {\"text\": \"Producci\\u00f3n de Hidrocarburos: 1\\u00ba Trimestre\"}, \"xaxis\": {\"range\": [1999, 2019], \"tickangle\": -45}, \"yaxis\": {\"range\": [0, 18000000], \"title\": {\"text\": \"Petr\\u00f3leo (m3)\"}}, \"yaxis2\": {\"overlaying\": \"y\", \"range\": [0, 18000000], \"side\": \"right\", \"title\": {\"text\": \"Gas (miles de m3)\"}}}, {\"showLink\": false, \"linkText\": \"Export to plot.ly\", \"plotlyServerURL\": \"https://plot.ly\"}); \n",
       "}\n",
       "});</script><script type=\"text/javascript\">window.addEventListener(\"resize\", function(){if (document.getElementById(\"3a29ae75-e794-43ae-a593-27b12f41c981\")) {window._Plotly.Plots.resize(document.getElementById(\"3a29ae75-e794-43ae-a593-27b12f41c981\"));};})</script>"
      ]
     },
     "metadata": {},
     "output_type": "display_data"
    }
   ],
   "source": [
    "pet_produccion_t1 = go.Scatter(\n",
    "    x=df_pett1.anio,\n",
    "    y=df_pett1.produccion_petroleo,\n",
    "    name='Petróleo'\n",
    ")\n",
    "\n",
    "gas_produccion_t1 = go.Scatter(\n",
    "    x=df_gast1.anio,\n",
    "    y=df_gast1.produccion_gas,\n",
    "    yaxis='y2',\n",
    "    name='Gas'\n",
    ")\n",
    "data = [pet_produccion_t1, gas_produccion_t1]\n",
    "\n",
    "layout = go.Layout(\n",
    "    title='Producción de Hidrocarburos: 1º Trimestre',\n",
    "    yaxis=dict(\n",
    "        title='Petróleo (m3)',\n",
    "        range=[0, 18000000]\n",
    "    ),\n",
    "    yaxis2=dict(\n",
    "        title='Gas (miles de m3)',\n",
    "        overlaying='y',\n",
    "        side='right',\n",
    "        range=[0, 18000000]\n",
    "    ),\n",
    "    xaxis=dict(\n",
    "        range=[1999,2019],\n",
    "        tickangle=315\n",
    "    )\n",
    ")\n",
    "\n",
    "fig2 = go.Figure(data=data, layout=layout)\n",
    "\n",
    "iplot(fig2, filename='prod_t1')"
   ]
  },
  {
   "cell_type": "code",
   "execution_count": null,
   "metadata": {},
   "outputs": [],
   "source": []
  },
  {
   "cell_type": "code",
   "execution_count": null,
   "metadata": {},
   "outputs": [],
   "source": []
  },
  {
   "cell_type": "code",
   "execution_count": null,
   "metadata": {},
   "outputs": [],
   "source": []
  },
  {
   "cell_type": "code",
   "execution_count": null,
   "metadata": {},
   "outputs": [],
   "source": []
  },
  {
   "cell_type": "code",
   "execution_count": null,
   "metadata": {},
   "outputs": [],
   "source": []
  },
  {
   "cell_type": "code",
   "execution_count": null,
   "metadata": {},
   "outputs": [],
   "source": []
  },
  {
   "cell_type": "code",
   "execution_count": 48,
   "metadata": {},
   "outputs": [
    {
     "name": "stdout",
     "output_type": "stream",
     "text": [
      "This is the format of your plot grid:\n",
      "[ (1,1) x1,y1 ]\n",
      "[ (2,1) x2,y2 ]\n",
      "\n"
     ]
    },
    {
     "data": {
      "application/vnd.plotly.v1+json": {
       "config": {
        "linkText": "Export to plot.ly",
        "plotlyServerURL": "https://plot.ly",
        "showLink": false
       },
       "data": [
        {
         "name": "Petróleo",
         "type": "scatter",
         "uid": "cedc1390-eb24-40b3-aa41-849f892e24a2",
         "x": [
          1999,
          2000,
          2001,
          2002,
          2003,
          2004,
          2005,
          2006,
          2007,
          2008,
          2009,
          2010,
          2011,
          2012,
          2013,
          2014,
          2015,
          2016,
          2017,
          2018
         ],
         "xaxis": "x",
         "y": [
          "45,628,372",
          "43,288,766",
          "44,616,993",
          "43,960,582",
          "42,957,054",
          "40,432,948",
          "38,572,465",
          "38,346,334",
          "37,904,567",
          "37,592,946",
          "36,239,941",
          "35,413,416",
          "33,326,279",
          "33,139,519",
          "32,461,091",
          "31,978,256",
          "31,991,990",
          "30,768,393",
          "28,862,470",
          "29,472,542"
         ],
         "yaxis": "y"
        },
        {
         "name": "Gas",
         "type": "scatter",
         "uid": "2e46dcc3-1fa8-4ea5-a6d9-c5c131ed0a05",
         "x": [
          1999,
          2000,
          2001,
          2002,
          2003,
          2004,
          2005,
          2006,
          2007,
          2008,
          2009,
          2010,
          2011,
          2012,
          2013,
          2014,
          2015,
          2016,
          2017,
          2018
         ],
         "xaxis": "x2",
         "y": [
          "40,749,019",
          "45,211,565",
          "48,038,567",
          "46,457,100",
          "50,947,741",
          "52,156,988",
          "51,278,599",
          "51,645,774",
          "50,971,152",
          "50,488,255",
          "48,419,249",
          "47,107,584",
          "45,527,554",
          "44,123,694",
          "41,708,289",
          "41,484,025",
          "42,905,533",
          "44,987,829",
          "44,656,659",
          "47,021,182"
         ],
         "yaxis": "y2"
        }
       ],
       "layout": {
        "annotations": [
         {
          "font": {
           "size": 16
          },
          "showarrow": false,
          "text": "Producción Petróleo",
          "x": 0.5,
          "xanchor": "center",
          "xref": "paper",
          "y": 1,
          "yanchor": "bottom",
          "yref": "paper"
         },
         {
          "font": {
           "size": 16
          },
          "showarrow": false,
          "text": "Producción Gas",
          "x": 0.5,
          "xanchor": "center",
          "xref": "paper",
          "y": 0.375,
          "yanchor": "bottom",
          "yref": "paper"
         }
        ],
        "height": 600,
        "width": 900,
        "xaxis": {
         "anchor": "y",
         "domain": [
          0,
          1
         ]
        },
        "xaxis2": {
         "anchor": "y2",
         "domain": [
          0,
          1
         ]
        },
        "yaxis": {
         "anchor": "x",
         "domain": [
          0.625,
          1
         ],
         "title": {
          "text": "m3"
         }
        },
        "yaxis2": {
         "anchor": "x2",
         "domain": [
          0,
          0.375
         ],
         "range": [
          40000000,
          55000000
         ],
         "title": {
          "text": "miles de m3"
         }
        }
       }
      },
      "text/html": [
       "<div id=\"0401faf7-2f55-4ea4-aa5f-9c4cadd7f4c8\" style=\"height: 600px; width: 900px;\" class=\"plotly-graph-div\"></div><script type=\"text/javascript\">require([\"plotly\"], function(Plotly) { window.PLOTLYENV=window.PLOTLYENV || {};window.PLOTLYENV.BASE_URL=\"https://plot.ly\";\n",
       "if (document.getElementById(\"0401faf7-2f55-4ea4-aa5f-9c4cadd7f4c8\")) {\n",
       "    Plotly.newPlot(\"0401faf7-2f55-4ea4-aa5f-9c4cadd7f4c8\", [{\"name\": \"Petr\\u00f3leo\", \"x\": [1999, 2000, 2001, 2002, 2003, 2004, 2005, 2006, 2007, 2008, 2009, 2010, 2011, 2012, 2013, 2014, 2015, 2016, 2017, 2018], \"y\": [\"45,628,372\", \"43,288,766\", \"44,616,993\", \"43,960,582\", \"42,957,054\", \"40,432,948\", \"38,572,465\", \"38,346,334\", \"37,904,567\", \"37,592,946\", \"36,239,941\", \"35,413,416\", \"33,326,279\", \"33,139,519\", \"32,461,091\", \"31,978,256\", \"31,991,990\", \"30,768,393\", \"28,862,470\", \"29,472,542\"], \"type\": \"scatter\", \"uid\": \"cedc1390-eb24-40b3-aa41-849f892e24a2\", \"xaxis\": \"x\", \"yaxis\": \"y\"}, {\"name\": \"Gas\", \"x\": [1999, 2000, 2001, 2002, 2003, 2004, 2005, 2006, 2007, 2008, 2009, 2010, 2011, 2012, 2013, 2014, 2015, 2016, 2017, 2018], \"xaxis\": \"x2\", \"y\": [\"40,749,019\", \"45,211,565\", \"48,038,567\", \"46,457,100\", \"50,947,741\", \"52,156,988\", \"51,278,599\", \"51,645,774\", \"50,971,152\", \"50,488,255\", \"48,419,249\", \"47,107,584\", \"45,527,554\", \"44,123,694\", \"41,708,289\", \"41,484,025\", \"42,905,533\", \"44,987,829\", \"44,656,659\", \"47,021,182\"], \"yaxis\": \"y2\", \"type\": \"scatter\", \"uid\": \"2e46dcc3-1fa8-4ea5-a6d9-c5c131ed0a05\"}], {\"annotations\": [{\"font\": {\"size\": 16}, \"showarrow\": false, \"text\": \"Producci\\u00f3n Petr\\u00f3leo\", \"x\": 0.5, \"xanchor\": \"center\", \"xref\": \"paper\", \"y\": 1.0, \"yanchor\": \"bottom\", \"yref\": \"paper\"}, {\"font\": {\"size\": 16}, \"showarrow\": false, \"text\": \"Producci\\u00f3n Gas\", \"x\": 0.5, \"xanchor\": \"center\", \"xref\": \"paper\", \"y\": 0.375, \"yanchor\": \"bottom\", \"yref\": \"paper\"}], \"xaxis\": {\"anchor\": \"y\", \"domain\": [0.0, 1.0]}, \"yaxis\": {\"anchor\": \"x\", \"domain\": [0.625, 1.0], \"title\": {\"text\": \"m3\"}}, \"xaxis2\": {\"anchor\": \"y2\", \"domain\": [0.0, 1.0]}, \"yaxis2\": {\"anchor\": \"x2\", \"domain\": [0.0, 0.375], \"title\": {\"text\": \"miles de m3\"}, \"range\": [40000000, 55000000]}, \"height\": 600, \"width\": 900}, {\"showLink\": false, \"linkText\": \"Export to plot.ly\", \"plotlyServerURL\": \"https://plot.ly\"}); \n",
       "}\n",
       "});</script>"
      ],
      "text/vnd.plotly.v1+html": [
       "<div id=\"0401faf7-2f55-4ea4-aa5f-9c4cadd7f4c8\" style=\"height: 600px; width: 900px;\" class=\"plotly-graph-div\"></div><script type=\"text/javascript\">require([\"plotly\"], function(Plotly) { window.PLOTLYENV=window.PLOTLYENV || {};window.PLOTLYENV.BASE_URL=\"https://plot.ly\";\n",
       "if (document.getElementById(\"0401faf7-2f55-4ea4-aa5f-9c4cadd7f4c8\")) {\n",
       "    Plotly.newPlot(\"0401faf7-2f55-4ea4-aa5f-9c4cadd7f4c8\", [{\"name\": \"Petr\\u00f3leo\", \"x\": [1999, 2000, 2001, 2002, 2003, 2004, 2005, 2006, 2007, 2008, 2009, 2010, 2011, 2012, 2013, 2014, 2015, 2016, 2017, 2018], \"y\": [\"45,628,372\", \"43,288,766\", \"44,616,993\", \"43,960,582\", \"42,957,054\", \"40,432,948\", \"38,572,465\", \"38,346,334\", \"37,904,567\", \"37,592,946\", \"36,239,941\", \"35,413,416\", \"33,326,279\", \"33,139,519\", \"32,461,091\", \"31,978,256\", \"31,991,990\", \"30,768,393\", \"28,862,470\", \"29,472,542\"], \"type\": \"scatter\", \"uid\": \"cedc1390-eb24-40b3-aa41-849f892e24a2\", \"xaxis\": \"x\", \"yaxis\": \"y\"}, {\"name\": \"Gas\", \"x\": [1999, 2000, 2001, 2002, 2003, 2004, 2005, 2006, 2007, 2008, 2009, 2010, 2011, 2012, 2013, 2014, 2015, 2016, 2017, 2018], \"xaxis\": \"x2\", \"y\": [\"40,749,019\", \"45,211,565\", \"48,038,567\", \"46,457,100\", \"50,947,741\", \"52,156,988\", \"51,278,599\", \"51,645,774\", \"50,971,152\", \"50,488,255\", \"48,419,249\", \"47,107,584\", \"45,527,554\", \"44,123,694\", \"41,708,289\", \"41,484,025\", \"42,905,533\", \"44,987,829\", \"44,656,659\", \"47,021,182\"], \"yaxis\": \"y2\", \"type\": \"scatter\", \"uid\": \"2e46dcc3-1fa8-4ea5-a6d9-c5c131ed0a05\"}], {\"annotations\": [{\"font\": {\"size\": 16}, \"showarrow\": false, \"text\": \"Producci\\u00f3n Petr\\u00f3leo\", \"x\": 0.5, \"xanchor\": \"center\", \"xref\": \"paper\", \"y\": 1.0, \"yanchor\": \"bottom\", \"yref\": \"paper\"}, {\"font\": {\"size\": 16}, \"showarrow\": false, \"text\": \"Producci\\u00f3n Gas\", \"x\": 0.5, \"xanchor\": \"center\", \"xref\": \"paper\", \"y\": 0.375, \"yanchor\": \"bottom\", \"yref\": \"paper\"}], \"xaxis\": {\"anchor\": \"y\", \"domain\": [0.0, 1.0]}, \"yaxis\": {\"anchor\": \"x\", \"domain\": [0.625, 1.0], \"title\": {\"text\": \"m3\"}}, \"xaxis2\": {\"anchor\": \"y2\", \"domain\": [0.0, 1.0]}, \"yaxis2\": {\"anchor\": \"x2\", \"domain\": [0.0, 0.375], \"title\": {\"text\": \"miles de m3\"}, \"range\": [40000000, 55000000]}, \"height\": 600, \"width\": 900}, {\"showLink\": false, \"linkText\": \"Export to plot.ly\", \"plotlyServerURL\": \"https://plot.ly\"}); \n",
       "}\n",
       "});</script>"
      ]
     },
     "metadata": {},
     "output_type": "display_data"
    }
   ],
   "source": [
    "petroleo_produccion_anual = go.Scatter(\n",
    "    x=df_petroleo.anio,\n",
    "    y=df_petroleo.produccion_petroleo,\n",
    "    name='Petróleo'\n",
    ")\n",
    "\n",
    "gas_produccion_anual = go.Scatter(\n",
    "    x=df_gas.anio,\n",
    "    y=df_gas.produccion_gas,\n",
    "    xaxis='x2',\n",
    "    yaxis='y2',\n",
    "    name='Gas'\n",
    ")\n",
    "\n",
    "\n",
    "\n",
    "fig = tools.make_subplots(rows=2, cols=1, subplot_titles=('Producción Petróleo', 'Producción Gas'))\n",
    "\n",
    "fig.append_trace(petroleo_produccion_anual, 1, 1)\n",
    "fig.append_trace(gas_produccion_anual, 2, 1)\n",
    "\n",
    "fig['layout']['yaxis1'].update(title='m3')\n",
    "fig['layout']['yaxis2'].update(title='miles de m3', range=[40000000, 55000000])\n",
    "\n",
    "fig['layout'].update(height=600, width=900)\n",
    "\n",
    "\n",
    "#py.iplot(fig, filename='multiple-subplots')\n",
    "iplot(fig, filename='multiple-subplots')"
   ]
  },
  {
   "cell_type": "code",
   "execution_count": 43,
   "metadata": {},
   "outputs": [],
   "source": [
    "?go.Layout"
   ]
  },
  {
   "cell_type": "code",
   "execution_count": null,
   "metadata": {},
   "outputs": [],
   "source": []
  }
 ],
 "metadata": {
  "kernelspec": {
   "display_name": "Python 3",
   "language": "python",
   "name": "python3"
  },
  "language_info": {
   "codemirror_mode": {
    "name": "ipython",
    "version": 3
   },
   "file_extension": ".py",
   "mimetype": "text/x-python",
   "name": "python",
   "nbconvert_exporter": "python",
   "pygments_lexer": "ipython3",
   "version": "3.6.7"
  }
 },
 "nbformat": 4,
 "nbformat_minor": 2
}
