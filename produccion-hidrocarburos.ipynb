{
 "cells": [
  {
   "cell_type": "code",
   "execution_count": 1,
   "metadata": {},
   "outputs": [],
   "source": [
    "# importar librerias\n",
    "import pandas as pd\n",
    "import numpy as np\n",
    "import matplotlib.pyplot as plt\n",
    "import seaborn as sns\n",
    "import plotly.plotly as py\n",
    "import plotly.graph_objs as go\n",
    "from plotly import tools"
   ]
  },
  {
   "cell_type": "code",
   "execution_count": 11,
   "metadata": {},
   "outputs": [
    {
     "data": {
      "text/html": [
       "<script type=\"text/javascript\">window.PlotlyConfig = {MathJaxConfig: 'local'};</script><script type=\"text/javascript\">if (window.MathJax) {MathJax.Hub.Config({SVG: {font: \"STIX-Web\"}});}</script><script>requirejs.config({paths: { 'plotly': ['https://cdn.plot.ly/plotly-latest.min']},});if(!window._Plotly) {require(['plotly'],function(plotly) {window._Plotly=plotly;});}</script>"
      ],
      "text/vnd.plotly.v1+html": [
       "<script type=\"text/javascript\">window.PlotlyConfig = {MathJaxConfig: 'local'};</script><script type=\"text/javascript\">if (window.MathJax) {MathJax.Hub.Config({SVG: {font: \"STIX-Web\"}});}</script><script>requirejs.config({paths: { 'plotly': ['https://cdn.plot.ly/plotly-latest.min']},});if(!window._Plotly) {require(['plotly'],function(plotly) {window._Plotly=plotly;});}</script>"
      ]
     },
     "metadata": {},
     "output_type": "display_data"
    }
   ],
   "source": [
    "### para graficar localmente\n",
    "from plotly.offline import download_plotlyjs, init_notebook_mode, plot, iplot\n",
    "\n",
    "init_notebook_mode(connected=True)"
   ]
  },
  {
   "cell_type": "code",
   "execution_count": 2,
   "metadata": {},
   "outputs": [],
   "source": [
    "# cargar datos\n",
    "df_pet = pd.read_csv('insumos/produccion_petroleo_1999-2018.csv', sep=\";\")\n",
    "df_gas = pd.read_csv('insumos/produccion_gas_1999-2018.csv', sep=\";\")"
   ]
  },
  {
   "cell_type": "code",
   "execution_count": 3,
   "metadata": {},
   "outputs": [
    {
     "name": "stdout",
     "output_type": "stream",
     "text": [
      "High five! You successfully sent some data to your account on plotly. View your plot in your browser at https://plot.ly/~axmcc/0 or inside your plot.ly account where it is named 'produccion-hidrocarburos-anual'\n"
     ]
    },
    {
     "name": "stderr",
     "output_type": "stream",
     "text": [
      "/usr/local/lib/python3.6/dist-packages/IPython/core/display.py:689: UserWarning:\n",
      "\n",
      "Consider using IPython.display.IFrame instead\n",
      "\n"
     ]
    },
    {
     "data": {
      "text/html": [
       "<iframe id=\"igraph\" scrolling=\"no\" style=\"border:none;\" seamless=\"seamless\" src=\"https://plot.ly/~axmcc/0.embed\" height=\"300px\" width=\"400px\"></iframe>"
      ],
      "text/plain": [
       "<plotly.tools.PlotlyDisplay object>"
      ]
     },
     "execution_count": 3,
     "metadata": {},
     "output_type": "execute_result"
    }
   ],
   "source": [
    "pet_produccion_anual = go.Scatter(\n",
    "    x=df_pet.anio,\n",
    "    y=df_pet.produccion_petroleo,\n",
    "    name='Petróleo'\n",
    ")\n",
    "\n",
    "gas_produccion_anual = go.Scatter(\n",
    "    x=df_gas.anio,\n",
    "    y=df_gas.produccion_gas,\n",
    "    yaxis='y2',\n",
    "    name='Gas'\n",
    ")\n",
    "data = [pet_produccion_anual, gas_produccion_anual]\n",
    "layout = go.Layout(\n",
    "    title='Producción de Hidrocarburos: Anual',\n",
    "    yaxis=dict(\n",
    "        title='Petróleo (m3)',\n",
    "        range=[25000000, 55000000],\n",
    "    ),\n",
    "    yaxis2=dict(\n",
    "        title='Gas (miles de m3)',\n",
    "        overlaying='y',\n",
    "        side='right',\n",
    "        range=[25000000, 55000000]\n",
    "    ),\n",
    "    legend=dict(orientation=\"h\")\n",
    ")\n",
    "fig = go.Figure(data=data, layout=layout)\n",
    "\n",
    "# configurar para que se vea bien en celulares\n",
    "fig['layout'].update(height=300, width=400)\n",
    "fig['layout']['margin'].update(l=25, r=25, b=50, t=50, pad=0)\n",
    "fig['layout']['yaxis'].update(automargin=True, titlefont=dict(size=10))\n",
    "fig['layout']['yaxis2'].update(automargin=True, titlefont=dict(size=10))\n",
    "fig['layout']['title'].update(font=dict(size=12))\n",
    "\n",
    "# publicar\n",
    "py.iplot(fig, filename='produccion-hidrocarburos-anual', sharing='public')"
   ]
  },
  {
   "cell_type": "code",
   "execution_count": 8,
   "metadata": {},
   "outputs": [],
   "source": [
    "# cargar datos\n",
    "df_pett1 = pd.read_csv('insumos/produccion_petroleo_1999-2019_t1.csv', sep=\";\")\n",
    "df_gast1 = pd.read_csv('insumos/produccion_gas_1999-2019_t1.csv', sep=\";\")"
   ]
  },
  {
   "cell_type": "code",
   "execution_count": 55,
   "metadata": {},
   "outputs": [
    {
     "data": {
      "text/html": [
       "<iframe id=\"igraph\" scrolling=\"no\" style=\"border:none;\" seamless=\"seamless\" src=\"https://plot.ly/~axmcc/2.embed\" height=\"300px\" width=\"400px\"></iframe>"
      ],
      "text/plain": [
       "<plotly.tools.PlotlyDisplay object>"
      ]
     },
     "execution_count": 55,
     "metadata": {},
     "output_type": "execute_result"
    }
   ],
   "source": [
    "pet_produccion_t1 = go.Bar(\n",
    "    x=df_pett1.anio,\n",
    "    y=df_pett1.produccion_petroleo,\n",
    "    name='Petróleo'\n",
    ")\n",
    "\n",
    "gas_produccion_t1 = go.Bar(\n",
    "    x=df_gast1.anio,\n",
    "    y=df_gast1.produccion_gas,\n",
    "    yaxis='y2',\n",
    "    name='Gas'\n",
    ")\n",
    "\n",
    "\n",
    "fig = tools.make_subplots(rows=2, cols=1, subplot_titles=('Petróleo', 'Gas'), print_grid=False)\n",
    "\n",
    "fig.append_trace(pet_produccion_t1, 1, 1)\n",
    "fig.append_trace(gas_produccion_t1, 2, 1)\n",
    "\n",
    "# configurar para que se vea bien en celulares\n",
    "fig['layout']['yaxis1'].update(title='m3', range=[0, 16000000], automargin=True, titlefont=dict(size=10))\n",
    "fig['layout']['yaxis2'].update(title='miles de m3', range=[0, 16000000], automargin=True, titlefont=dict(size=10))\n",
    "fig['layout'].update(height=300, width=400)\n",
    "fig['layout'].update(title='Producción 1º Trimestre')\n",
    "fig['layout']['title'].update(font=dict(size=12))\n",
    "fig['layout'].update(showlegend=False)\n",
    "fig['layout']['margin'].update(l=25, r=25, b=50, t=50, pad=0)\n",
    "\n",
    "# subplot title\n",
    "for i in fig['layout']['annotations']:\n",
    "    i['font'] = dict(size=10)\n",
    "#fig['layout']['annotations'][0].y = 0.9\n",
    "#fig['layout']['annotations'][1].y = 0.3\n",
    "\n",
    "# Publicar\n",
    "py.iplot(fig, filename='produccion-hidrocarburos-t1', sharing='public')"
   ]
  },
  {
   "cell_type": "code",
   "execution_count": 44,
   "metadata": {},
   "outputs": [],
   "source": [
    "?tools.make_subplots"
   ]
  },
  {
   "cell_type": "code",
   "execution_count": 11,
   "metadata": {},
   "outputs": [],
   "source": [
    "# cargar datos\n",
    "df_cuenca = pd.read_csv('insumos/produccion_1999-2018_cuencas.csv', sep=\";\")\n",
    "df_cuenca_t1 = pd.read_csv('insumos/produccion_1999-2019_t1_cuencas.csv', sep=\";\")"
   ]
  },
  {
   "cell_type": "code",
   "execution_count": 102,
   "metadata": {},
   "outputs": [
    {
     "data": {
      "text/html": [
       "<iframe id=\"igraph\" scrolling=\"no\" style=\"border:none;\" seamless=\"seamless\" src=\"https://plot.ly/~axmcc/4.embed\" height=\"300px\" width=\"400px\"></iframe>"
      ],
      "text/plain": [
       "<plotly.tools.PlotlyDisplay object>"
      ]
     },
     "execution_count": 102,
     "metadata": {},
     "output_type": "execute_result"
    }
   ],
   "source": [
    "# Fuente de este codigo: https://stackoverflow.com/questions/50518090/python-plotly-multiple-dropdown-plots-each-of-which-have-subplots\n",
    "\n",
    "# Creo figura\n",
    "labels = [\"Austral\", \"Cuyana\", \"Golfo San Jorge\", \"Neuquina\", \"Noroeste\"]\n",
    "\n",
    "fig = tools.make_subplots(rows=1, cols=2, subplot_titles=('Petróleo', 'Gas'), print_grid=False)\n",
    "\n",
    "# Creo graficos de petroleo\n",
    "austral_pet_an = go.Scatter(x=df_cuenca_t1.query('cuenca == \"AUSTRAL\"').anio,\n",
    "                        y=df_cuenca_t1.query('cuenca == \"AUSTRAL\"').produccion_petroleo,\n",
    "                        name='Austral')\n",
    "\n",
    "cuyana_pet_an = go.Scatter(x=df_cuenca_t1.query('cuenca == \"CUYANA\"').anio,\n",
    "                        y=df_cuenca_t1.query('cuenca == \"CUYANA\"').produccion_petroleo,\n",
    "                        name='Cuyana')\n",
    "\n",
    "golfo_pet_an = go.Scatter(x=df_cuenca_t1.query('cuenca == \"GOLFO SAN JORGE\"').anio,\n",
    "                        y=df_cuenca_t1.query('cuenca == \"GOLFO SAN JORGE\"').produccion_petroleo,\n",
    "                        name='Golfo San Jorge')\n",
    "\n",
    "neuquina_pet_an = go.Scatter(x=df_cuenca_t1.query('cuenca == \"NEUQUINA\"').anio,\n",
    "                        y=df_cuenca_t1.query('cuenca == \"NEUQUINA\"').produccion_petroleo,\n",
    "                        name='Neuquina')\n",
    "\n",
    "noroeste_pet_an = go.Scatter(x=df_cuenca_t1.query('cuenca == \"NOROESTE\"').anio,\n",
    "                        y=df_cuenca_t1.query('cuenca == \"NOROESTE\"').produccion_petroleo,\n",
    "                        name='Noroeste')\n",
    "\n",
    "# Superpongo graficos para que funcione el efecto de la botonera\n",
    "fig.append_trace(austral_pet_an, 1, 1)\n",
    "fig.append_trace(cuyana_pet_an, 1, 1)\n",
    "fig.append_trace(golfo_pet_an, 1, 1)\n",
    "fig.append_trace(neuquina_pet_an, 1, 1)\n",
    "fig.append_trace(noroeste_pet_an, 1, 1)\n",
    "\n",
    "\n",
    "# Creo graficos de gas\n",
    "austral_gas_an = go.Scatter(x=df_cuenca_t1.query('cuenca == \"AUSTRAL\"').anio,\n",
    "                        y=df_cuenca_t1.query('cuenca == \"AUSTRAL\"').produccion_gas,\n",
    "                        name='Austral')\n",
    "\n",
    "cuyana_gas_an = go.Scatter(x=df_cuenca_t1.query('cuenca == \"CUYANA\"').anio,\n",
    "                        y=df_cuenca_t1.query('cuenca == \"CUYANA\"').produccion_gas,\n",
    "                        name='Cuyana')\n",
    "\n",
    "golfo_gas_an = go.Scatter(x=df_cuenca_t1.query('cuenca == \"GOLFO SAN JORGE\"').anio,\n",
    "                        y=df_cuenca_t1.query('cuenca == \"GOLFO SAN JORGE\"').produccion_gas,\n",
    "                        name='Golfo San Jorge')\n",
    "\n",
    "neuquina_gas_an = go.Scatter(x=df_cuenca_t1.query('cuenca == \"NEUQUINA\"').anio,\n",
    "                        y=df_cuenca_t1.query('cuenca == \"NEUQUINA\"').produccion_gas,\n",
    "                        name='Neuquina')\n",
    "\n",
    "noroeste_gas_an = go.Scatter(x=df_cuenca_t1.query('cuenca == \"NOROESTE\"').anio,\n",
    "                        y=df_cuenca_t1.query('cuenca == \"NOROESTE\"').produccion_gas,\n",
    "                        name='Noroeste')\n",
    "\n",
    "fig.append_trace(austral_gas_an, 1, 2)\n",
    "fig.append_trace(cuyana_gas_an, 1, 2)\n",
    "fig.append_trace(golfo_gas_an, 1, 2)\n",
    "fig.append_trace(neuquina_gas_an, 1, 2)\n",
    "fig.append_trace(noroeste_gas_an, 1, 2)\n",
    "\n",
    "### Creo botonera \n",
    "buttons = []\n",
    "for i, label in enumerate(labels):\n",
    "    visibility = [i==j for j in range(len(labels))]\n",
    "    button = dict(\n",
    "                 label =  label,\n",
    "                 method = 'update',\n",
    "                 args = [{'visible': visibility},\n",
    "                     {'title': label}])\n",
    "    buttons.append(button)\n",
    "    \n",
    "buttons.append({'label': 'Cuyana y Noroeste',\n",
    "                'method': 'update',\n",
    "                'args': [{'visible': [False, True, False, False, True]}, {'title': 'Cuyana y Noroeste'}]})\n",
    "buttons.append({'label': 'Todas',\n",
    "                'method': 'update',\n",
    "                'args': [{'visible': [True, True, True, True, True]}, {'title': 'Todas las Cuencas'}]})\n",
    "\n",
    "del buttons[1], buttons[3]\n",
    "    \n",
    "updatemenus = list([\n",
    "    dict(active=4,\n",
    "        buttons=buttons,\n",
    "         x=0.0,\n",
    "         y=-0.5,\n",
    "         xanchor = 'center',\n",
    "         yanchor = 'bottom',\n",
    "         direction=\"up\",\n",
    "         pad={'r':5, 't':5}\n",
    "    )   \n",
    "])\n",
    "\n",
    "fig['layout']['title'] = 'Todas las Cuencas'\n",
    "fig['layout']['showlegend'] = False\n",
    "fig['layout']['updatemenus'] = updatemenus\n",
    "\n",
    "# configurar para que se vea bien en celulares\n",
    "fig['layout'].update(height=300, width=400)\n",
    "fig['layout']['margin'].update(l=25, r=25, b=50, t=50, pad=0)\n",
    "fig['layout']['xaxis'].update(domain=[0,0.47])\n",
    "fig['layout']['xaxis2'].update(domain=[0.53,1])\n",
    "fig['layout']['yaxis'].update(automargin=True, titlefont=dict(size=10))\n",
    "#fig['layout']['yaxis2'].update(title='miles de m3',automargin=True, titlefont=dict(size=10))\n",
    "fig['layout']['title'].update(font=dict(size=12))\n",
    "\n",
    "# subplot title\n",
    "for i in fig['layout']['annotations']:\n",
    "    i['font'] = dict(size=10)\n",
    "\n",
    "# publicar\n",
    "py.iplot(fig, filename='produccion-hidrocarburos-cuencas', sharing='public')"
   ]
  },
  {
   "cell_type": "code",
   "execution_count": 6,
   "metadata": {},
   "outputs": [],
   "source": [
    "# cargar datos\n",
    "df_primaria = pd.read_csv('insumos/hidrocarburos_produccion-importacion_primaria_1990-2017.csv', sep=\";\")\n",
    "df_secundaria = pd.read_csv('insumos/hidrocarburos_produccion-importacion_secundaria_1990-2017.csv', sep=\";\")"
   ]
  },
  {
   "cell_type": "code",
   "execution_count": 23,
   "metadata": {},
   "outputs": [],
   "source": [
    "df_primaria.sort_values(by='anio', ascending=False, inplace=True)\n",
    "df_primaria.order"
   ]
  },
  {
   "cell_type": "code",
   "execution_count": 43,
   "metadata": {},
   "outputs": [],
   "source": [
    "df_primaria.drop(df_primaria[df_primaria.anio < 1999].index, inplace=True)"
   ]
  },
  {
   "cell_type": "code",
   "execution_count": 8,
   "metadata": {},
   "outputs": [
    {
     "data": {
      "text/plain": [
       "Index(['anio', 'producto', 'produccion_local', 'importado', 'exportado',\n",
       "       'oferta_bruta', 'importado_pcnt', 'exportado_pcnt'],\n",
       "      dtype='object')"
      ]
     },
     "execution_count": 8,
     "metadata": {},
     "output_type": "execute_result"
    }
   ],
   "source": [
    "df_primaria.columns"
   ]
  },
  {
   "cell_type": "code",
   "execution_count": 9,
   "metadata": {},
   "outputs": [
    {
     "data": {
      "text/plain": [
       "Petroleo               28\n",
       "Gas Natural de Pozo    28\n",
       "Name: producto, dtype: int64"
      ]
     },
     "execution_count": 9,
     "metadata": {},
     "output_type": "execute_result"
    }
   ],
   "source": [
    "df_primaria.producto.value_counts()"
   ]
  },
  {
   "cell_type": "code",
   "execution_count": 47,
   "metadata": {},
   "outputs": [
    {
     "data": {
      "application/vnd.plotly.v1+json": {
       "config": {
        "linkText": "Export to plot.ly",
        "plotlyServerURL": "https://plot.ly",
        "showLink": false
       },
       "data": [
        {
         "name": "Producción Local",
         "type": "scatter",
         "uid": "73fc6d66-fae0-4d72-b400-1c0e039c9c10",
         "x": [
          2017,
          2016,
          2015,
          2014,
          2013,
          2012,
          2011,
          2010,
          2009,
          2008,
          2007,
          2006,
          2005,
          2004,
          2003,
          2002,
          2001,
          2000,
          1999
         ],
         "y": [
          24766.120443847,
          26439.7874935081,
          27495.684183881,
          27484.278913002003,
          27886.312873659,
          28452.054463067,
          28583.130394186002,
          30437.321711954,
          31178.511179281002,
          32409.817778033597,
          32774.414203487,
          33147.27386037,
          33299.4103712632,
          34874.1480961946,
          37067.3138988425,
          38168.68296782,
          38778.58664719,
          39213.570880445,
          41391.96425
         ]
        },
        {
         "name": "Oferta Bruta",
         "type": "scatter",
         "uid": "c879288d-0073-434e-9a90-65caa3229ab1",
         "x": [
          2017,
          2016,
          2015,
          2014,
          2013,
          2012,
          2011,
          2010,
          2009,
          2008,
          2007,
          2006,
          2005,
          2004,
          2003,
          2002,
          2001,
          2000,
          1999
         ],
         "y": [
          25883.397571357003,
          27230.2364269181,
          28332.831533881003,
          27972.008703002,
          28261.216616059,
          28672.655211077003,
          28583.130394186002,
          30437.321711954,
          31178.511179281002,
          32414.1520780336,
          32814.853133487,
          33226.99116037,
          33519.6273432632,
          35399.5226789946,
          37320.9452088425,
          38711.05964782,
          40207.99139291,
          40412.038983305,
          42359.49571
         ]
        },
        {
         "name": "% Exportado",
         "type": "bar",
         "uid": "8de4fbed-983a-4d69-99f7-9189a614be57",
         "x": [
          2017,
          2016,
          2015,
          2014,
          2013,
          2012,
          2011,
          2010,
          2009,
          2008,
          2007,
          2006,
          2005,
          2004,
          2003,
          2002,
          2001,
          2000,
          1999
         ],
         "y": [
          0,
          8.8205020049901,
          6.829656010501719,
          6.905642116381411,
          6.96787892147409,
          10.9033536760129,
          10.754841281189,
          15.5318869117953,
          15.090354899551999,
          8.77250553425513,
          8.96444469993733,
          13.6384398881288,
          23.216828147419,
          26.1252502996458,
          32.0194509545258,
          36.05090259886929,
          38.2948413646635,
          36.651025033701,
          33.567271744056
         ],
         "yaxis": "y2"
        },
        {
         "name": "% Importado",
         "type": "bar",
         "uid": "f09c9765-c42b-4583-ae8a-0fe6e812ee4a",
         "x": [
          2017,
          2016,
          2015,
          2014,
          2013,
          2012,
          2011,
          2010,
          2009,
          2008,
          2007,
          2006,
          2005,
          2004,
          2003,
          2002,
          2001,
          2000,
          1999
         ],
         "y": [
          4.316578318,
          2.9028353669999998,
          2.954690035,
          1.7436352,
          1.326566183,
          0.769376768,
          0,
          0,
          0,
          0.013371629,
          0.12323361599999999,
          0.2399173,
          0.6569791770000001,
          1.484129002,
          0.679595087,
          1.4010897269999998,
          3.555026492,
          2.9656214660000004,
          2.284095794
         ],
         "yaxis": "y2"
        }
       ],
       "layout": {
        "height": 300,
        "legend": {
         "orientation": "h"
        },
        "margin": {
         "b": 50,
         "l": 25,
         "pad": 0,
         "r": 25,
         "t": 50
        },
        "title": {
         "font": {
          "size": 12
         },
         "text": "Balance Energético: Petróleo"
        },
        "width": 400,
        "xaxis": {
         "dtick": 5,
         "tick0": 1990,
         "tickmode": "linear",
         "ticks": "inside"
        },
        "yaxis": {
         "automargin": true,
         "range": [
          0,
          45000
         ],
         "title": {
          "font": {
           "size": 10
          },
          "text": "Oferta (TEP)"
         }
        },
        "yaxis2": {
         "automargin": true,
         "overlaying": "y",
         "range": [
          0,
          60
         ],
         "side": "right",
         "title": {
          "font": {
           "size": 10
          },
          "text": "Importación y Exportación (%)"
         }
        }
       }
      },
      "text/html": [
       "<div id=\"e0250ddb-e589-4bd8-9fdd-af820af92c05\" style=\"height: 300px; width: 400px;\" class=\"plotly-graph-div\"></div><script type=\"text/javascript\">require([\"plotly\"], function(Plotly) { window.PLOTLYENV=window.PLOTLYENV || {};window.PLOTLYENV.BASE_URL=\"https://plot.ly\";\n",
       "if (document.getElementById(\"e0250ddb-e589-4bd8-9fdd-af820af92c05\")) {\n",
       "    Plotly.newPlot(\"e0250ddb-e589-4bd8-9fdd-af820af92c05\", [{\"name\": \"Producci\\u00f3n Local\", \"x\": [2017, 2016, 2015, 2014, 2013, 2012, 2011, 2010, 2009, 2008, 2007, 2006, 2005, 2004, 2003, 2002, 2001, 2000, 1999], \"y\": [24766.120443847, 26439.7874935081, 27495.684183881, 27484.278913002003, 27886.312873659, 28452.054463067, 28583.130394186002, 30437.321711954, 31178.511179281002, 32409.817778033597, 32774.414203487, 33147.27386037, 33299.4103712632, 34874.1480961946, 37067.3138988425, 38168.68296782, 38778.58664719, 39213.570880445, 41391.96425], \"type\": \"scatter\", \"uid\": \"73fc6d66-fae0-4d72-b400-1c0e039c9c10\"}, {\"name\": \"Oferta Bruta\", \"x\": [2017, 2016, 2015, 2014, 2013, 2012, 2011, 2010, 2009, 2008, 2007, 2006, 2005, 2004, 2003, 2002, 2001, 2000, 1999], \"y\": [25883.397571357003, 27230.2364269181, 28332.831533881003, 27972.008703002, 28261.216616059, 28672.655211077003, 28583.130394186002, 30437.321711954, 31178.511179281002, 32414.1520780336, 32814.853133487, 33226.99116037, 33519.6273432632, 35399.5226789946, 37320.9452088425, 38711.05964782, 40207.99139291, 40412.038983305, 42359.49571], \"type\": \"scatter\", \"uid\": \"c879288d-0073-434e-9a90-65caa3229ab1\"}, {\"name\": \"% Exportado\", \"x\": [2017, 2016, 2015, 2014, 2013, 2012, 2011, 2010, 2009, 2008, 2007, 2006, 2005, 2004, 2003, 2002, 2001, 2000, 1999], \"y\": [0.0, 8.8205020049901, 6.829656010501719, 6.905642116381411, 6.96787892147409, 10.9033536760129, 10.754841281189, 15.5318869117953, 15.090354899551999, 8.77250553425513, 8.96444469993733, 13.6384398881288, 23.216828147419, 26.1252502996458, 32.0194509545258, 36.05090259886929, 38.2948413646635, 36.651025033701, 33.567271744056], \"yaxis\": \"y2\", \"type\": \"bar\", \"uid\": \"8de4fbed-983a-4d69-99f7-9189a614be57\"}, {\"name\": \"% Importado\", \"x\": [2017, 2016, 2015, 2014, 2013, 2012, 2011, 2010, 2009, 2008, 2007, 2006, 2005, 2004, 2003, 2002, 2001, 2000, 1999], \"y\": [4.316578318, 2.9028353669999998, 2.954690035, 1.7436352, 1.326566183, 0.769376768, 0.0, 0.0, 0.0, 0.013371629, 0.12323361599999999, 0.2399173, 0.6569791770000001, 1.484129002, 0.679595087, 1.4010897269999998, 3.555026492, 2.9656214660000004, 2.284095794], \"yaxis\": \"y2\", \"type\": \"bar\", \"uid\": \"f09c9765-c42b-4583-ae8a-0fe6e812ee4a\"}], {\"legend\": {\"orientation\": \"h\"}, \"title\": {\"text\": \"Balance Energ\\u00e9tico: Petr\\u00f3leo\", \"font\": {\"size\": 12}}, \"xaxis\": {\"dtick\": 5, \"tick0\": 1990, \"tickmode\": \"linear\", \"ticks\": \"inside\"}, \"yaxis\": {\"range\": [0, 45000], \"title\": {\"text\": \"Oferta (TEP)\", \"font\": {\"size\": 10}}, \"automargin\": true}, \"yaxis2\": {\"overlaying\": \"y\", \"range\": [0, 60], \"side\": \"right\", \"title\": {\"text\": \"Importaci\\u00f3n y Exportaci\\u00f3n (%)\", \"font\": {\"size\": 10}}, \"automargin\": true}, \"height\": 300, \"width\": 400, \"margin\": {\"l\": 25, \"r\": 25, \"b\": 50, \"t\": 50, \"pad\": 0}}, {\"showLink\": false, \"linkText\": \"Export to plot.ly\", \"plotlyServerURL\": \"https://plot.ly\"}); \n",
       "}\n",
       "});</script>"
      ],
      "text/vnd.plotly.v1+html": [
       "<div id=\"e0250ddb-e589-4bd8-9fdd-af820af92c05\" style=\"height: 300px; width: 400px;\" class=\"plotly-graph-div\"></div><script type=\"text/javascript\">require([\"plotly\"], function(Plotly) { window.PLOTLYENV=window.PLOTLYENV || {};window.PLOTLYENV.BASE_URL=\"https://plot.ly\";\n",
       "if (document.getElementById(\"e0250ddb-e589-4bd8-9fdd-af820af92c05\")) {\n",
       "    Plotly.newPlot(\"e0250ddb-e589-4bd8-9fdd-af820af92c05\", [{\"name\": \"Producci\\u00f3n Local\", \"x\": [2017, 2016, 2015, 2014, 2013, 2012, 2011, 2010, 2009, 2008, 2007, 2006, 2005, 2004, 2003, 2002, 2001, 2000, 1999], \"y\": [24766.120443847, 26439.7874935081, 27495.684183881, 27484.278913002003, 27886.312873659, 28452.054463067, 28583.130394186002, 30437.321711954, 31178.511179281002, 32409.817778033597, 32774.414203487, 33147.27386037, 33299.4103712632, 34874.1480961946, 37067.3138988425, 38168.68296782, 38778.58664719, 39213.570880445, 41391.96425], \"type\": \"scatter\", \"uid\": \"73fc6d66-fae0-4d72-b400-1c0e039c9c10\"}, {\"name\": \"Oferta Bruta\", \"x\": [2017, 2016, 2015, 2014, 2013, 2012, 2011, 2010, 2009, 2008, 2007, 2006, 2005, 2004, 2003, 2002, 2001, 2000, 1999], \"y\": [25883.397571357003, 27230.2364269181, 28332.831533881003, 27972.008703002, 28261.216616059, 28672.655211077003, 28583.130394186002, 30437.321711954, 31178.511179281002, 32414.1520780336, 32814.853133487, 33226.99116037, 33519.6273432632, 35399.5226789946, 37320.9452088425, 38711.05964782, 40207.99139291, 40412.038983305, 42359.49571], \"type\": \"scatter\", \"uid\": \"c879288d-0073-434e-9a90-65caa3229ab1\"}, {\"name\": \"% Exportado\", \"x\": [2017, 2016, 2015, 2014, 2013, 2012, 2011, 2010, 2009, 2008, 2007, 2006, 2005, 2004, 2003, 2002, 2001, 2000, 1999], \"y\": [0.0, 8.8205020049901, 6.829656010501719, 6.905642116381411, 6.96787892147409, 10.9033536760129, 10.754841281189, 15.5318869117953, 15.090354899551999, 8.77250553425513, 8.96444469993733, 13.6384398881288, 23.216828147419, 26.1252502996458, 32.0194509545258, 36.05090259886929, 38.2948413646635, 36.651025033701, 33.567271744056], \"yaxis\": \"y2\", \"type\": \"bar\", \"uid\": \"8de4fbed-983a-4d69-99f7-9189a614be57\"}, {\"name\": \"% Importado\", \"x\": [2017, 2016, 2015, 2014, 2013, 2012, 2011, 2010, 2009, 2008, 2007, 2006, 2005, 2004, 2003, 2002, 2001, 2000, 1999], \"y\": [4.316578318, 2.9028353669999998, 2.954690035, 1.7436352, 1.326566183, 0.769376768, 0.0, 0.0, 0.0, 0.013371629, 0.12323361599999999, 0.2399173, 0.6569791770000001, 1.484129002, 0.679595087, 1.4010897269999998, 3.555026492, 2.9656214660000004, 2.284095794], \"yaxis\": \"y2\", \"type\": \"bar\", \"uid\": \"f09c9765-c42b-4583-ae8a-0fe6e812ee4a\"}], {\"legend\": {\"orientation\": \"h\"}, \"title\": {\"text\": \"Balance Energ\\u00e9tico: Petr\\u00f3leo\", \"font\": {\"size\": 12}}, \"xaxis\": {\"dtick\": 5, \"tick0\": 1990, \"tickmode\": \"linear\", \"ticks\": \"inside\"}, \"yaxis\": {\"range\": [0, 45000], \"title\": {\"text\": \"Oferta (TEP)\", \"font\": {\"size\": 10}}, \"automargin\": true}, \"yaxis2\": {\"overlaying\": \"y\", \"range\": [0, 60], \"side\": \"right\", \"title\": {\"text\": \"Importaci\\u00f3n y Exportaci\\u00f3n (%)\", \"font\": {\"size\": 10}}, \"automargin\": true}, \"height\": 300, \"width\": 400, \"margin\": {\"l\": 25, \"r\": 25, \"b\": 50, \"t\": 50, \"pad\": 0}}, {\"showLink\": false, \"linkText\": \"Export to plot.ly\", \"plotlyServerURL\": \"https://plot.ly\"}); \n",
       "}\n",
       "});</script>"
      ]
     },
     "metadata": {},
     "output_type": "display_data"
    }
   ],
   "source": [
    "produccion_local_pet = go.Scatter(\n",
    "    x=df_primaria.query('producto == \"Petroleo\"').anio,\n",
    "    y=df_primaria.query('producto == \"Petroleo\"').produccion_local,\n",
    "    name='Producción Local'\n",
    ")\n",
    "\n",
    "oferta_bruta_pet = go.Scatter(\n",
    "    x=df_primaria.query('producto == \"Petroleo\"').anio,\n",
    "    y=df_primaria.query('producto == \"Petroleo\"').oferta_bruta,\n",
    "    name='Oferta Bruta'\n",
    ")\n",
    "\n",
    "importado_pet = go.Bar(\n",
    "    x=df_primaria.query('producto == \"Petroleo\"').anio,\n",
    "    y=df_primaria.query('producto == \"Petroleo\"').importado_pcnt,\n",
    "    yaxis='y2',\n",
    "    name='% Importado'\n",
    ")\n",
    "\n",
    "exportado_pet = go.Bar(\n",
    "    x=df_primaria.query('producto == \"Petroleo\"').anio,\n",
    "    y=df_primaria.query('producto == \"Petroleo\"').exportado_pcnt,\n",
    "    yaxis='y2',\n",
    "    name='% Exportado'\n",
    ")\n",
    "\n",
    "data = [produccion_local_pet,oferta_bruta_pet, exportado_pet,importado_pet]\n",
    "\n",
    "layout = go.Layout(\n",
    "    title='Balance Energético: Petróleo',\n",
    "    yaxis=dict(\n",
    "        title='Oferta (TEP)',\n",
    "        range=[0, 45000],\n",
    "    ),\n",
    "    yaxis2=dict(\n",
    "        title='Importación y Exportación (%)',\n",
    "        overlaying='y',\n",
    "        side='right',\n",
    "        range=[0, 60]\n",
    "    ),\n",
    "    xaxis=dict(\n",
    "        tickmode='linear',\n",
    "        ticks='inside',\n",
    "        tick0=1990,\n",
    "        dtick=5\n",
    "    ),\n",
    "    legend=dict(orientation=\"h\")\n",
    ")\n",
    "fig = go.Figure(data=data, layout=layout)\n",
    "\n",
    "# configurar para que se vea bien en celulares\n",
    "fig['layout'].update(height=300, width=400)\n",
    "fig['layout']['margin'].update(l=25, r=25, b=50, t=50, pad=0)\n",
    "fig['layout']['yaxis'].update(automargin=True, titlefont=dict(size=10))\n",
    "fig['layout']['yaxis2'].update(automargin=True, titlefont=dict(size=10))\n",
    "fig['layout']['title'].update(font=dict(size=12))\n",
    "\n",
    "# visualizar localmente\n",
    "iplot(fig, filename='balance-energetico')\n",
    "\n",
    "# publicar\n",
    "#py.iplot(fig, filename='produccion-hidrocarburos-anual', sharing='public')"
   ]
  },
  {
   "cell_type": "code",
   "execution_count": 45,
   "metadata": {},
   "outputs": [
    {
     "data": {
      "application/vnd.plotly.v1+json": {
       "config": {
        "linkText": "Export to plot.ly",
        "plotlyServerURL": "https://plot.ly",
        "showLink": false
       },
       "data": [
        {
         "name": "Producción Local",
         "type": "scatter",
         "uid": "71415d7e-97ae-4056-a7bc-7c33c0cd59c4",
         "x": [
          2017,
          2016,
          2015,
          2014,
          2013,
          2012,
          2011,
          2010,
          2009,
          2008,
          2007,
          2006,
          2005,
          2004,
          2003,
          2002,
          2001,
          2000,
          1999
         ],
         "y": [
          39202.1642108825,
          39556.8468228864,
          37786.4519905975,
          36567.2709768096,
          36781.9343148568,
          38895.27945,
          40134.5519115648,
          41500.9610395484,
          42626.041710292004,
          44388.1357917562,
          44733.11808767691,
          44528.986480379805,
          44212.408428792405,
          44969.755472137804,
          43927.1424850722,
          40055.3115808104,
          39585.7575,
          38687.00022,
          36579.248856
         ]
        },
        {
         "name": "Oferta Bruta",
         "type": "scatter",
         "uid": "1af71149-4aa8-4eeb-bfcc-7c9ff1910872",
         "x": [
          2017,
          2016,
          2015,
          2014,
          2013,
          2012,
          2011,
          2010,
          2009,
          2008,
          2007,
          2006,
          2005,
          2004,
          2003,
          2002,
          2001,
          2000,
          1999
         ],
         "y": [
          44694.7315408825,
          44343.650212886394,
          42743.4236405975,
          41464.2709768096,
          41504.634314856805,
          43738.32945,
          42943.2719115648,
          43327.7910395484,
          44031.978710292,
          45133.4757917562,
          46145.612087676906,
          46043.4874803798,
          45654.118428792404,
          46483.6754721378,
          43997.8942580722,
          40137.8625508104,
          39585.7575,
          38687.00022,
          36579.248856
         ]
        },
        {
         "name": "% Exportado",
         "type": "bar",
         "uid": "2c3a678d-1bfb-4ea1-a79f-078de7b7c7c4",
         "x": [
          2017,
          2016,
          2015,
          2014,
          2013,
          2012,
          2011,
          2010,
          2009,
          2008,
          2007,
          2006,
          2005,
          2004,
          2003,
          2002,
          2001,
          2000,
          1999
         ],
         "y": [
          0,
          0,
          0.001259537148707,
          0.019336696480534,
          0.056258052724655,
          0.095319022061943,
          0.16326879678235098,
          0.320357015041902,
          0.585478657146208,
          0.256825572794549,
          1.4846326645469299,
          4.84383870841159,
          5.8891994585492,
          5.875387151342231,
          5.839316775207231,
          5.80750843819284,
          5.46474271712497,
          4.94315813871598,
          2.2345062448321205
         ],
         "yaxis": "y2"
        },
        {
         "name": "% Importado",
         "type": "bar",
         "uid": "f430229d-1cbe-40a0-8498-3e12c397fb9a",
         "x": [
          2017,
          2016,
          2015,
          2014,
          2013,
          2012,
          2011,
          2010,
          2009,
          2008,
          2007,
          2006,
          2005,
          2004,
          2003,
          2002,
          2001,
          2000,
          1999
         ],
         "y": [
          12.289071084000001,
          10.794788807,
          11.597039329000001,
          11.81016785,
          11.378729335,
          11.072782296,
          6.54053563,
          4.216300799,
          3.192990734,
          1.6514128080000001,
          3.060949755,
          3.289283855,
          3.1578969210000003,
          3.256885314,
          0.16080718,
          0.205668575,
          0,
          0,
          0
         ],
         "yaxis": "y2"
        }
       ],
       "layout": {
        "height": 300,
        "legend": {
         "orientation": "h"
        },
        "margin": {
         "b": 50,
         "l": 25,
         "pad": 0,
         "r": 25,
         "t": 50
        },
        "title": {
         "font": {
          "size": 12
         },
         "text": "Balance Energético: Gas"
        },
        "width": 400,
        "xaxis": {
         "dtick": 5,
         "tick0": 1990,
         "tickmode": "linear",
         "ticks": "inside"
        },
        "yaxis": {
         "automargin": true,
         "range": [
          0,
          50000
         ],
         "title": {
          "font": {
           "size": 10
          },
          "text": "Oferta (TEP)"
         }
        },
        "yaxis2": {
         "automargin": true,
         "overlaying": "y",
         "range": [
          0,
          20
         ],
         "side": "right",
         "title": {
          "font": {
           "size": 10
          },
          "text": "Importación y Exportación (%)"
         }
        }
       }
      },
      "text/html": [
       "<div id=\"0824c3fc-6f26-4a62-8035-fabe0bd957b8\" style=\"height: 300px; width: 400px;\" class=\"plotly-graph-div\"></div><script type=\"text/javascript\">require([\"plotly\"], function(Plotly) { window.PLOTLYENV=window.PLOTLYENV || {};window.PLOTLYENV.BASE_URL=\"https://plot.ly\";\n",
       "if (document.getElementById(\"0824c3fc-6f26-4a62-8035-fabe0bd957b8\")) {\n",
       "    Plotly.newPlot(\"0824c3fc-6f26-4a62-8035-fabe0bd957b8\", [{\"name\": \"Producci\\u00f3n Local\", \"x\": [2017, 2016, 2015, 2014, 2013, 2012, 2011, 2010, 2009, 2008, 2007, 2006, 2005, 2004, 2003, 2002, 2001, 2000, 1999], \"y\": [39202.1642108825, 39556.8468228864, 37786.4519905975, 36567.2709768096, 36781.9343148568, 38895.27945, 40134.5519115648, 41500.9610395484, 42626.041710292004, 44388.1357917562, 44733.11808767691, 44528.986480379805, 44212.408428792405, 44969.755472137804, 43927.1424850722, 40055.3115808104, 39585.7575, 38687.00022, 36579.248856], \"type\": \"scatter\", \"uid\": \"71415d7e-97ae-4056-a7bc-7c33c0cd59c4\"}, {\"name\": \"Oferta Bruta\", \"x\": [2017, 2016, 2015, 2014, 2013, 2012, 2011, 2010, 2009, 2008, 2007, 2006, 2005, 2004, 2003, 2002, 2001, 2000, 1999], \"y\": [44694.7315408825, 44343.650212886394, 42743.4236405975, 41464.2709768096, 41504.634314856805, 43738.32945, 42943.2719115648, 43327.7910395484, 44031.978710292, 45133.4757917562, 46145.612087676906, 46043.4874803798, 45654.118428792404, 46483.6754721378, 43997.8942580722, 40137.8625508104, 39585.7575, 38687.00022, 36579.248856], \"type\": \"scatter\", \"uid\": \"1af71149-4aa8-4eeb-bfcc-7c9ff1910872\"}, {\"name\": \"% Exportado\", \"x\": [2017, 2016, 2015, 2014, 2013, 2012, 2011, 2010, 2009, 2008, 2007, 2006, 2005, 2004, 2003, 2002, 2001, 2000, 1999], \"y\": [0.0, 0.0, 0.001259537148707, 0.019336696480534, 0.056258052724655, 0.095319022061943, 0.16326879678235098, 0.320357015041902, 0.585478657146208, 0.256825572794549, 1.4846326645469299, 4.84383870841159, 5.8891994585492, 5.875387151342231, 5.839316775207231, 5.80750843819284, 5.46474271712497, 4.94315813871598, 2.2345062448321205], \"yaxis\": \"y2\", \"type\": \"bar\", \"uid\": \"2c3a678d-1bfb-4ea1-a79f-078de7b7c7c4\"}, {\"name\": \"% Importado\", \"x\": [2017, 2016, 2015, 2014, 2013, 2012, 2011, 2010, 2009, 2008, 2007, 2006, 2005, 2004, 2003, 2002, 2001, 2000, 1999], \"y\": [12.289071084000001, 10.794788807, 11.597039329000001, 11.81016785, 11.378729335, 11.072782296, 6.54053563, 4.216300799, 3.192990734, 1.6514128080000001, 3.060949755, 3.289283855, 3.1578969210000003, 3.256885314, 0.16080718, 0.205668575, 0.0, 0.0, 0.0], \"yaxis\": \"y2\", \"type\": \"bar\", \"uid\": \"f430229d-1cbe-40a0-8498-3e12c397fb9a\"}], {\"legend\": {\"orientation\": \"h\"}, \"title\": {\"text\": \"Balance Energ\\u00e9tico: Gas\", \"font\": {\"size\": 12}}, \"xaxis\": {\"dtick\": 5, \"tick0\": 1990, \"tickmode\": \"linear\", \"ticks\": \"inside\"}, \"yaxis\": {\"range\": [0, 50000], \"title\": {\"text\": \"Oferta (TEP)\", \"font\": {\"size\": 10}}, \"automargin\": true}, \"yaxis2\": {\"overlaying\": \"y\", \"range\": [0, 20], \"side\": \"right\", \"title\": {\"text\": \"Importaci\\u00f3n y Exportaci\\u00f3n (%)\", \"font\": {\"size\": 10}}, \"automargin\": true}, \"height\": 300, \"width\": 400, \"margin\": {\"l\": 25, \"r\": 25, \"b\": 50, \"t\": 50, \"pad\": 0}}, {\"showLink\": false, \"linkText\": \"Export to plot.ly\", \"plotlyServerURL\": \"https://plot.ly\"}); \n",
       "}\n",
       "});</script>"
      ],
      "text/vnd.plotly.v1+html": [
       "<div id=\"0824c3fc-6f26-4a62-8035-fabe0bd957b8\" style=\"height: 300px; width: 400px;\" class=\"plotly-graph-div\"></div><script type=\"text/javascript\">require([\"plotly\"], function(Plotly) { window.PLOTLYENV=window.PLOTLYENV || {};window.PLOTLYENV.BASE_URL=\"https://plot.ly\";\n",
       "if (document.getElementById(\"0824c3fc-6f26-4a62-8035-fabe0bd957b8\")) {\n",
       "    Plotly.newPlot(\"0824c3fc-6f26-4a62-8035-fabe0bd957b8\", [{\"name\": \"Producci\\u00f3n Local\", \"x\": [2017, 2016, 2015, 2014, 2013, 2012, 2011, 2010, 2009, 2008, 2007, 2006, 2005, 2004, 2003, 2002, 2001, 2000, 1999], \"y\": [39202.1642108825, 39556.8468228864, 37786.4519905975, 36567.2709768096, 36781.9343148568, 38895.27945, 40134.5519115648, 41500.9610395484, 42626.041710292004, 44388.1357917562, 44733.11808767691, 44528.986480379805, 44212.408428792405, 44969.755472137804, 43927.1424850722, 40055.3115808104, 39585.7575, 38687.00022, 36579.248856], \"type\": \"scatter\", \"uid\": \"71415d7e-97ae-4056-a7bc-7c33c0cd59c4\"}, {\"name\": \"Oferta Bruta\", \"x\": [2017, 2016, 2015, 2014, 2013, 2012, 2011, 2010, 2009, 2008, 2007, 2006, 2005, 2004, 2003, 2002, 2001, 2000, 1999], \"y\": [44694.7315408825, 44343.650212886394, 42743.4236405975, 41464.2709768096, 41504.634314856805, 43738.32945, 42943.2719115648, 43327.7910395484, 44031.978710292, 45133.4757917562, 46145.612087676906, 46043.4874803798, 45654.118428792404, 46483.6754721378, 43997.8942580722, 40137.8625508104, 39585.7575, 38687.00022, 36579.248856], \"type\": \"scatter\", \"uid\": \"1af71149-4aa8-4eeb-bfcc-7c9ff1910872\"}, {\"name\": \"% Exportado\", \"x\": [2017, 2016, 2015, 2014, 2013, 2012, 2011, 2010, 2009, 2008, 2007, 2006, 2005, 2004, 2003, 2002, 2001, 2000, 1999], \"y\": [0.0, 0.0, 0.001259537148707, 0.019336696480534, 0.056258052724655, 0.095319022061943, 0.16326879678235098, 0.320357015041902, 0.585478657146208, 0.256825572794549, 1.4846326645469299, 4.84383870841159, 5.8891994585492, 5.875387151342231, 5.839316775207231, 5.80750843819284, 5.46474271712497, 4.94315813871598, 2.2345062448321205], \"yaxis\": \"y2\", \"type\": \"bar\", \"uid\": \"2c3a678d-1bfb-4ea1-a79f-078de7b7c7c4\"}, {\"name\": \"% Importado\", \"x\": [2017, 2016, 2015, 2014, 2013, 2012, 2011, 2010, 2009, 2008, 2007, 2006, 2005, 2004, 2003, 2002, 2001, 2000, 1999], \"y\": [12.289071084000001, 10.794788807, 11.597039329000001, 11.81016785, 11.378729335, 11.072782296, 6.54053563, 4.216300799, 3.192990734, 1.6514128080000001, 3.060949755, 3.289283855, 3.1578969210000003, 3.256885314, 0.16080718, 0.205668575, 0.0, 0.0, 0.0], \"yaxis\": \"y2\", \"type\": \"bar\", \"uid\": \"f430229d-1cbe-40a0-8498-3e12c397fb9a\"}], {\"legend\": {\"orientation\": \"h\"}, \"title\": {\"text\": \"Balance Energ\\u00e9tico: Gas\", \"font\": {\"size\": 12}}, \"xaxis\": {\"dtick\": 5, \"tick0\": 1990, \"tickmode\": \"linear\", \"ticks\": \"inside\"}, \"yaxis\": {\"range\": [0, 50000], \"title\": {\"text\": \"Oferta (TEP)\", \"font\": {\"size\": 10}}, \"automargin\": true}, \"yaxis2\": {\"overlaying\": \"y\", \"range\": [0, 20], \"side\": \"right\", \"title\": {\"text\": \"Importaci\\u00f3n y Exportaci\\u00f3n (%)\", \"font\": {\"size\": 10}}, \"automargin\": true}, \"height\": 300, \"width\": 400, \"margin\": {\"l\": 25, \"r\": 25, \"b\": 50, \"t\": 50, \"pad\": 0}}, {\"showLink\": false, \"linkText\": \"Export to plot.ly\", \"plotlyServerURL\": \"https://plot.ly\"}); \n",
       "}\n",
       "});</script>"
      ]
     },
     "metadata": {},
     "output_type": "display_data"
    }
   ],
   "source": [
    "produccion_local_gas = go.Scatter(\n",
    "    x=df_primaria.query('producto == \"Gas Natural de Pozo\"').anio,\n",
    "    y=df_primaria.query('producto == \"Gas Natural de Pozo\"').produccion_local,\n",
    "    name='Producción Local'\n",
    ")\n",
    "\n",
    "oferta_bruta_gas = go.Scatter(\n",
    "    x=df_primaria.query('producto == \"Gas Natural de Pozo\"').anio,\n",
    "    y=df_primaria.query('producto == \"Gas Natural de Pozo\"').oferta_bruta,\n",
    "    name='Oferta Bruta'\n",
    ")\n",
    "\n",
    "importado_gas = go.Bar(\n",
    "    x=df_primaria.query('producto == \"Gas Natural de Pozo\"').anio,\n",
    "    y=df_primaria.query('producto == \"Gas Natural de Pozo\"').importado_pcnt,\n",
    "    yaxis='y2',\n",
    "    name='% Importado'\n",
    ")\n",
    "\n",
    "exportado_gas = go.Bar(\n",
    "    x=df_primaria.query('producto == \"Gas Natural de Pozo\"').anio,\n",
    "    y=df_primaria.query('producto == \"Gas Natural de Pozo\"').exportado_pcnt,\n",
    "    yaxis='y2',\n",
    "    name='% Exportado'\n",
    ")\n",
    "\n",
    "data = [produccion_local_gas,oferta_bruta_gas, exportado_gas,importado_gas]\n",
    "\n",
    "layout = go.Layout(\n",
    "    title='Balance Energético: Gas',\n",
    "    yaxis=dict(\n",
    "        title='Oferta (TEP)',\n",
    "        range=[0, 50000],\n",
    "    ),\n",
    "    yaxis2=dict(\n",
    "        title='Importación y Exportación (%)',\n",
    "        overlaying='y',\n",
    "        side='right',\n",
    "        range=[0, 20]\n",
    "    ),\n",
    "    xaxis=dict(\n",
    "        tickmode='linear',\n",
    "        ticks='inside',\n",
    "        tick0=1990,\n",
    "        dtick=5\n",
    "    ),\n",
    "    legend=dict(orientation=\"h\")\n",
    ")\n",
    "fig = go.Figure(data=data, layout=layout)\n",
    "\n",
    "# configurar para que se vea bien en celulares\n",
    "fig['layout'].update(height=300, width=400)\n",
    "fig['layout']['margin'].update(l=25, r=25, b=50, t=50, pad=0)\n",
    "fig['layout']['yaxis'].update(automargin=True, titlefont=dict(size=10))\n",
    "fig['layout']['yaxis2'].update(automargin=True, titlefont=dict(size=10))\n",
    "fig['layout']['title'].update(font=dict(size=12))\n",
    "\n",
    "# visualizar localmente\n",
    "iplot(fig, filename='balance-energetico')\n",
    "\n",
    "# publicar\n",
    "#py.iplot(fig, filename='produccion-hidrocarburos-anual', sharing='public')"
   ]
  },
  {
   "cell_type": "code",
   "execution_count": null,
   "metadata": {},
   "outputs": [],
   "source": [
    "## prueba\n",
    "ax = sns.lineplot(data=df_pet, x='anio', y='produccion_petroleo', color=\"b\")\n",
    "ax2 = plt.twinx()\n",
    "sns.lineplot(data=df_gas, x='anio', y='produccion_gas', color=\"orange\", ax=ax2)\n",
    "\n",
    "plt.xticks(np.arange(2000, 2018, 5))\n",
    "sns.despine(top=True, right=True, left=True, bottom=True)\n",
    "\n",
    "pixel_to_inch = 0.0104166667\n",
    "height = 300*pixel_to_inch\n",
    "width = 400*pixel_to_inch\n",
    "\n",
    "plt.figure(figsize=(height,width))\n",
    "\n",
    "#ax.set(xlim =(1999,2018))\n",
    "#ax.xaxis.set_major_locator(matplotlib.ticker.MultipleLocator(5))\n",
    "#xlabels = ['{:,.2f}'.format(x) + 'K' for x in g.get_xticks()/1000]\n",
    "#g.set_xticklabels(xlabels)"
   ]
  }
 ],
 "metadata": {
  "kernelspec": {
   "display_name": "Python 3",
   "language": "python",
   "name": "python3"
  },
  "language_info": {
   "codemirror_mode": {
    "name": "ipython",
    "version": 3
   },
   "file_extension": ".py",
   "mimetype": "text/x-python",
   "name": "python",
   "nbconvert_exporter": "python",
   "pygments_lexer": "ipython3",
   "version": "3.6.7"
  }
 },
 "nbformat": 4,
 "nbformat_minor": 2
}
