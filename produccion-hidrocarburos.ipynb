{
 "cells": [
  {
   "cell_type": "code",
   "execution_count": 1,
   "metadata": {},
   "outputs": [],
   "source": [
    "# importar librerias\n",
    "import pandas as pd\n",
    "import plotly.plotly as py\n",
    "import plotly.graph_objs as go\n",
    "from plotly import tools"
   ]
  },
  {
   "cell_type": "markdown",
   "metadata": {},
   "source": [
    "### para graficar localmente\n",
    "from plotly.offline import download_plotlyjs, init_notebook_mode, plot, iplot\n",
    "\n",
    "init_notebook_mode(connected=True)"
   ]
  },
  {
   "cell_type": "code",
   "execution_count": 3,
   "metadata": {},
   "outputs": [],
   "source": [
    "# cargar datos\n",
    "df_pet = pd.read_csv('insumos/produccion_petroleo_1999-2018.csv', sep=\";\")\n",
    "df_gas = pd.read_csv('insumos/produccion_gas_1999-2018.csv', sep=\";\")"
   ]
  },
  {
   "cell_type": "code",
   "execution_count": 35,
   "metadata": {},
   "outputs": [
    {
     "name": "stdout",
     "output_type": "stream",
     "text": [
      "High five! You successfully sent some data to your account on plotly. View your plot in your browser at https://plot.ly/~axmcc/0 or inside your plot.ly account where it is named 'produccion-hidrocarburos-anual'\n"
     ]
    },
    {
     "data": {
      "text/html": [
       "<iframe id=\"igraph\" scrolling=\"no\" style=\"border:none;\" seamless=\"seamless\" src=\"https://plot.ly/~axmcc/0.embed\" height=\"600px\" width=\"900px\"></iframe>"
      ],
      "text/plain": [
       "<plotly.tools.PlotlyDisplay object>"
      ]
     },
     "execution_count": 35,
     "metadata": {},
     "output_type": "execute_result"
    }
   ],
   "source": [
    "pet_produccion_anual = go.Scatter(\n",
    "    x=df_pet.anio,\n",
    "    y=df_pet.produccion_petroleo,\n",
    "    name='Petróleo'\n",
    ")\n",
    "\n",
    "gas_produccion_anual = go.Scatter(\n",
    "    x=df_gas.anio,\n",
    "    y=df_gas.produccion_gas,\n",
    "    yaxis='y2',\n",
    "    name='Gas'\n",
    ")\n",
    "data = [pet_produccion_anual, gas_produccion_anual]\n",
    "layout = go.Layout(\n",
    "    title='Producción de Hidrocarburos: Anual',\n",
    "    yaxis=dict(\n",
    "        title='Petróleo (m3)',\n",
    "        range=[25000000, 55000000],\n",
    "    ),\n",
    "    yaxis2=dict(\n",
    "        title='Gas (miles de m3)',\n",
    "        overlaying='y',\n",
    "        side='right',\n",
    "        range=[25000000, 55000000]\n",
    "    ),\n",
    "    legend=dict(orientation=\"h\")\n",
    ")\n",
    "fig = go.Figure(data=data, layout=layout)\n",
    "fig['layout'].update(height=600, width=900)\n",
    "py.iplot(fig, filename='produccion-hidrocarburos-anual', sharing='public')"
   ]
  },
  {
   "cell_type": "code",
   "execution_count": 9,
   "metadata": {},
   "outputs": [],
   "source": [
    "# cargar datos\n",
    "df_pett1 = pd.read_csv('insumos/produccion_petroleo_1999-2019_t1.csv', sep=\";\")\n",
    "df_gast1 = pd.read_csv('insumos/produccion_gas_1999-2019_t1.csv', sep=\";\")"
   ]
  },
  {
   "cell_type": "code",
   "execution_count": 34,
   "metadata": {},
   "outputs": [
    {
     "data": {
      "text/html": [
       "<iframe id=\"igraph\" scrolling=\"no\" style=\"border:none;\" seamless=\"seamless\" src=\"https://plot.ly/~axmcc/2.embed\" height=\"600px\" width=\"900px\"></iframe>"
      ],
      "text/plain": [
       "<plotly.tools.PlotlyDisplay object>"
      ]
     },
     "execution_count": 34,
     "metadata": {},
     "output_type": "execute_result"
    }
   ],
   "source": [
    "pet_produccion_t1 = go.Bar(\n",
    "    x=df_pett1.anio,\n",
    "    y=df_pett1.produccion_petroleo,\n",
    "    name='Petróleo'\n",
    ")\n",
    "\n",
    "gas_produccion_t1 = go.Bar(\n",
    "    x=df_gast1.anio,\n",
    "    y=df_gast1.produccion_gas,\n",
    "    yaxis='y2',\n",
    "    name='Gas'\n",
    ")\n",
    "\n",
    "\n",
    "fig = tools.make_subplots(rows=2, cols=1, subplot_titles=('Petróleo', 'Gas'), print_grid=False)\n",
    "\n",
    "fig.append_trace(pet_produccion_t1, 1, 1)\n",
    "fig.append_trace(gas_produccion_t1, 2, 1)\n",
    "\n",
    "fig['layout']['yaxis1'].update(title='m3', range=[0, 16000000])\n",
    "fig['layout']['yaxis2'].update(title='miles de m3', range=[0, 16000000])\n",
    "\n",
    "fig['layout'].update(height=600, width=900)\n",
    "fig['layout'].update(title='Producción 1º Trimestre')\n",
    "fig['layout'].update(showlegend=False)\n",
    "\n",
    "py.iplot(fig, filename='produccion-hidrocarburos-t1', sharing='public')"
   ]
  },
  {
   "cell_type": "code",
   "execution_count": 11,
   "metadata": {},
   "outputs": [],
   "source": [
    "# cargar datos\n",
    "df_cuenca = pd.read_csv('insumos/produccion_1999-2018_cuencas.csv', sep=\";\")\n",
    "df_cuenca_t1 = pd.read_csv('insumos/produccion_1999-2019_t1_cuencas.csv', sep=\";\")"
   ]
  },
  {
   "cell_type": "code",
   "execution_count": 36,
   "metadata": {},
   "outputs": [
    {
     "data": {
      "text/html": [
       "<iframe id=\"igraph\" scrolling=\"no\" style=\"border:none;\" seamless=\"seamless\" src=\"https://plot.ly/~axmcc/4.embed\" height=\"600px\" width=\"900px\"></iframe>"
      ],
      "text/plain": [
       "<plotly.tools.PlotlyDisplay object>"
      ]
     },
     "execution_count": 36,
     "metadata": {},
     "output_type": "execute_result"
    }
   ],
   "source": [
    "# Fuente de este codigo: https://stackoverflow.com/questions/50518090/python-plotly-multiple-dropdown-plots-each-of-which-have-subplots\n",
    "\n",
    "# Creo figura\n",
    "labels = [\"Austral\", \"Cuyana\", \"Golfo San Jorge\", \"Neuquina\", \"Noroeste\"]\n",
    "\n",
    "fig = tools.make_subplots(rows=1, cols=2, subplot_titles=('Petróleo', 'Gas'), print_grid=False)\n",
    "\n",
    "# Creo graficos de petroleo\n",
    "austral_pet_an = go.Scatter(x=df_cuenca_t1.query('cuenca == \"AUSTRAL\"').anio,\n",
    "                        y=df_cuenca_t1.query('cuenca == \"AUSTRAL\"').produccion_petroleo,\n",
    "                        name='Austral')\n",
    "\n",
    "cuyana_pet_an = go.Scatter(x=df_cuenca_t1.query('cuenca == \"CUYANA\"').anio,\n",
    "                        y=df_cuenca_t1.query('cuenca == \"CUYANA\"').produccion_petroleo,\n",
    "                        name='Cuyana')\n",
    "\n",
    "golfo_pet_an = go.Scatter(x=df_cuenca_t1.query('cuenca == \"GOLFO SAN JORGE\"').anio,\n",
    "                        y=df_cuenca_t1.query('cuenca == \"GOLFO SAN JORGE\"').produccion_petroleo,\n",
    "                        name='Golfo San Jorge')\n",
    "\n",
    "neuquina_pet_an = go.Scatter(x=df_cuenca_t1.query('cuenca == \"NEUQUINA\"').anio,\n",
    "                        y=df_cuenca_t1.query('cuenca == \"NEUQUINA\"').produccion_petroleo,\n",
    "                        name='Neuquina')\n",
    "\n",
    "noroeste_pet_an = go.Scatter(x=df_cuenca_t1.query('cuenca == \"NOROESTE\"').anio,\n",
    "                        y=df_cuenca_t1.query('cuenca == \"NOROESTE\"').produccion_petroleo,\n",
    "                        name='Noroeste')\n",
    "\n",
    "# Superpongo graficos para que funcione el efecto de la botonera\n",
    "fig.append_trace(austral_pet_an, 1, 1)\n",
    "fig.append_trace(cuyana_pet_an, 1, 1)\n",
    "fig.append_trace(golfo_pet_an, 1, 1)\n",
    "fig.append_trace(neuquina_pet_an, 1, 1)\n",
    "fig.append_trace(noroeste_pet_an, 1, 1)\n",
    "\n",
    "\n",
    "# Creo graficos de gas\n",
    "austral_gas_an = go.Scatter(x=df_cuenca_t1.query('cuenca == \"AUSTRAL\"').anio,\n",
    "                        y=df_cuenca_t1.query('cuenca == \"AUSTRAL\"').produccion_gas,\n",
    "                        name='Austral')\n",
    "\n",
    "cuyana_gas_an = go.Scatter(x=df_cuenca_t1.query('cuenca == \"CUYANA\"').anio,\n",
    "                        y=df_cuenca_t1.query('cuenca == \"CUYANA\"').produccion_gas,\n",
    "                        name='Cuyana')\n",
    "\n",
    "golfo_gas_an = go.Scatter(x=df_cuenca_t1.query('cuenca == \"GOLFO SAN JORGE\"').anio,\n",
    "                        y=df_cuenca_t1.query('cuenca == \"GOLFO SAN JORGE\"').produccion_gas,\n",
    "                        name='Golfo San Jorge')\n",
    "\n",
    "neuquina_gas_an = go.Scatter(x=df_cuenca_t1.query('cuenca == \"NEUQUINA\"').anio,\n",
    "                        y=df_cuenca_t1.query('cuenca == \"NEUQUINA\"').produccion_gas,\n",
    "                        name='Neuquina')\n",
    "\n",
    "noroeste_gas_an = go.Scatter(x=df_cuenca_t1.query('cuenca == \"NOROESTE\"').anio,\n",
    "                        y=df_cuenca_t1.query('cuenca == \"NOROESTE\"').produccion_gas,\n",
    "                        name='Noroeste')\n",
    "\n",
    "fig.append_trace(austral_gas_an, 1, 2)\n",
    "fig.append_trace(cuyana_gas_an, 1, 2)\n",
    "fig.append_trace(golfo_gas_an, 1, 2)\n",
    "fig.append_trace(neuquina_gas_an, 1, 2)\n",
    "fig.append_trace(noroeste_gas_an, 1, 2)\n",
    "\n",
    "### Creo botonera \n",
    "buttons = []\n",
    "for i, label in enumerate(labels):\n",
    "    visibility = [i==j for j in range(len(labels))]\n",
    "    button = dict(\n",
    "                 label =  label,\n",
    "                 method = 'update',\n",
    "                 args = [{'visible': visibility},\n",
    "                     {'title': label}])\n",
    "    buttons.append(button)\n",
    "    \n",
    "buttons.append({'label': 'Todas',\n",
    "                'method': 'update',\n",
    "                'args': [{'visible': [True, True, True, True, True]}, {'title': 'Todas las Cuencas'}]})\n",
    "    \n",
    "\n",
    "updatemenus = list([\n",
    "    dict(active=5,\n",
    "        buttons=buttons,\n",
    "         x=0.1,\n",
    "         y=1.1,\n",
    "         xanchor = 'center',\n",
    "         yanchor = 'bottom',\n",
    "         direction=\"right\"\n",
    "    )   \n",
    "])\n",
    "\n",
    "fig['layout']['title'] = 'Todas las Cuencas'\n",
    "fig['layout']['showlegend'] = False\n",
    "fig['layout']['updatemenus'] = updatemenus\n",
    "fig['layout'].update(height=600, width=900)\n",
    "\n",
    "py.iplot(fig, filename='produccion-hidrocarburos-cuencas', sharing='public')"
   ]
  },
  {
   "cell_type": "code",
   "execution_count": null,
   "metadata": {},
   "outputs": [],
   "source": []
  }
 ],
 "metadata": {
  "kernelspec": {
   "display_name": "Python 3",
   "language": "python",
   "name": "python3"
  },
  "language_info": {
   "codemirror_mode": {
    "name": "ipython",
    "version": 3
   },
   "file_extension": ".py",
   "mimetype": "text/x-python",
   "name": "python",
   "nbconvert_exporter": "python",
   "pygments_lexer": "ipython3",
   "version": "3.6.7"
  }
 },
 "nbformat": 4,
 "nbformat_minor": 2
}
